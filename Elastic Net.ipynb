{
 "cells": [
  {
   "cell_type": "code",
   "execution_count": 1,
   "id": "ccc7e1bc",
   "metadata": {},
   "outputs": [],
   "source": [
    "import numpy as np\n",
    "import pandas as pd\n",
    "import matplotlib.pyplot as plt\n",
    "\n",
    "import seaborn as sns"
   ]
  },
  {
   "cell_type": "code",
   "execution_count": 2,
   "id": "f459fd01",
   "metadata": {},
   "outputs": [],
   "source": [
    "df = pd.read_csv('ppg_churn.csv')"
   ]
  },
  {
   "cell_type": "code",
   "execution_count": 3,
   "id": "c2ea43d7",
   "metadata": {},
   "outputs": [
    {
     "name": "stdout",
     "output_type": "stream",
     "text": [
      "<class 'pandas.core.frame.DataFrame'>\n",
      "RangeIndex: 5000 entries, 0 to 4999\n",
      "Data columns (total 20 columns):\n",
      " #   Column  Non-Null Count  Dtype  \n",
      "---  ------  --------------  -----  \n",
      " 0   state   5000 non-null   object \n",
      " 1   X02     5000 non-null   int64  \n",
      " 2   X03     5000 non-null   object \n",
      " 3   X04     5000 non-null   object \n",
      " 4   X05     5000 non-null   object \n",
      " 5   X06     5000 non-null   int64  \n",
      " 6   X07     5000 non-null   float64\n",
      " 7   X08     5000 non-null   int64  \n",
      " 8   X09     5000 non-null   float64\n",
      " 9   X10     5000 non-null   float64\n",
      " 10  X11     5000 non-null   int64  \n",
      " 11  X12     5000 non-null   float64\n",
      " 12  X13     5000 non-null   float64\n",
      " 13  X14     5000 non-null   int64  \n",
      " 14  X15     5000 non-null   float64\n",
      " 15  X16     5000 non-null   float64\n",
      " 16  X17     5000 non-null   int64  \n",
      " 17  X18     5000 non-null   float64\n",
      " 18  X19     5000 non-null   int64  \n",
      " 19  churn   5000 non-null   object \n",
      "dtypes: float64(8), int64(7), object(5)\n",
      "memory usage: 781.4+ KB\n"
     ]
    }
   ],
   "source": [
    "df.info()"
   ]
  },
  {
   "cell_type": "code",
   "execution_count": 4,
   "id": "8f68fd5e",
   "metadata": {},
   "outputs": [],
   "source": [
    "df['lump_x17'] = np.where( df.X17 > 7, 'Other', df.X17.astype('str'))\n",
    "df['lump_x19'] = np.where( df.X19 > 3, 'Other', df.X19.astype('str'))\n",
    "df['X06_cat'] = np.where(df['X06'] > 0, 1, 0)"
   ]
  },
  {
   "cell_type": "code",
   "execution_count": 5,
   "id": "1ad8dfea",
   "metadata": {},
   "outputs": [],
   "source": [
    "df['X06_cat'] = df.X06_cat.astype('str')"
   ]
  },
  {
   "cell_type": "code",
   "execution_count": 6,
   "id": "f306dd75",
   "metadata": {},
   "outputs": [
    {
     "name": "stdout",
     "output_type": "stream",
     "text": [
      "<class 'pandas.core.frame.DataFrame'>\n",
      "RangeIndex: 5000 entries, 0 to 4999\n",
      "Data columns (total 23 columns):\n",
      " #   Column    Non-Null Count  Dtype  \n",
      "---  ------    --------------  -----  \n",
      " 0   state     5000 non-null   object \n",
      " 1   X02       5000 non-null   int64  \n",
      " 2   X03       5000 non-null   object \n",
      " 3   X04       5000 non-null   object \n",
      " 4   X05       5000 non-null   object \n",
      " 5   X06       5000 non-null   int64  \n",
      " 6   X07       5000 non-null   float64\n",
      " 7   X08       5000 non-null   int64  \n",
      " 8   X09       5000 non-null   float64\n",
      " 9   X10       5000 non-null   float64\n",
      " 10  X11       5000 non-null   int64  \n",
      " 11  X12       5000 non-null   float64\n",
      " 12  X13       5000 non-null   float64\n",
      " 13  X14       5000 non-null   int64  \n",
      " 14  X15       5000 non-null   float64\n",
      " 15  X16       5000 non-null   float64\n",
      " 16  X17       5000 non-null   int64  \n",
      " 17  X18       5000 non-null   float64\n",
      " 18  X19       5000 non-null   int64  \n",
      " 19  churn     5000 non-null   object \n",
      " 20  lump_x17  5000 non-null   object \n",
      " 21  lump_x19  5000 non-null   object \n",
      " 22  X06_cat   5000 non-null   object \n",
      "dtypes: float64(8), int64(7), object(8)\n",
      "memory usage: 898.6+ KB\n"
     ]
    }
   ],
   "source": [
    "df.info()"
   ]
  },
  {
   "cell_type": "code",
   "execution_count": 7,
   "id": "17bb59a0",
   "metadata": {},
   "outputs": [],
   "source": [
    "df = df.drop(columns=['X06', 'X17', 'X19'])"
   ]
  },
  {
   "cell_type": "code",
   "execution_count": 8,
   "id": "51ccc878",
   "metadata": {},
   "outputs": [
    {
     "name": "stdout",
     "output_type": "stream",
     "text": [
      "<class 'pandas.core.frame.DataFrame'>\n",
      "RangeIndex: 5000 entries, 0 to 4999\n",
      "Data columns (total 20 columns):\n",
      " #   Column    Non-Null Count  Dtype  \n",
      "---  ------    --------------  -----  \n",
      " 0   state     5000 non-null   object \n",
      " 1   X02       5000 non-null   int64  \n",
      " 2   X03       5000 non-null   object \n",
      " 3   X04       5000 non-null   object \n",
      " 4   X05       5000 non-null   object \n",
      " 5   X07       5000 non-null   float64\n",
      " 6   X08       5000 non-null   int64  \n",
      " 7   X09       5000 non-null   float64\n",
      " 8   X10       5000 non-null   float64\n",
      " 9   X11       5000 non-null   int64  \n",
      " 10  X12       5000 non-null   float64\n",
      " 11  X13       5000 non-null   float64\n",
      " 12  X14       5000 non-null   int64  \n",
      " 13  X15       5000 non-null   float64\n",
      " 14  X16       5000 non-null   float64\n",
      " 15  X18       5000 non-null   float64\n",
      " 16  churn     5000 non-null   object \n",
      " 17  lump_x17  5000 non-null   object \n",
      " 18  lump_x19  5000 non-null   object \n",
      " 19  X06_cat   5000 non-null   object \n",
      "dtypes: float64(8), int64(4), object(8)\n",
      "memory usage: 781.4+ KB\n"
     ]
    }
   ],
   "source": [
    "df.info()"
   ]
  },
  {
   "cell_type": "code",
   "execution_count": 9,
   "id": "0d44d702",
   "metadata": {},
   "outputs": [],
   "source": [
    "from sklearn.preprocessing import StandardScaler\n",
    "\n",
    "from sklearn.model_selection import RepeatedStratifiedKFold\n",
    "\n",
    "from sklearn.linear_model import LogisticRegression"
   ]
  },
  {
   "cell_type": "code",
   "execution_count": 10,
   "id": "f880ec39",
   "metadata": {},
   "outputs": [],
   "source": [
    "from sklearn.pipeline import Pipeline"
   ]
  },
  {
   "cell_type": "code",
   "execution_count": 11,
   "id": "3b1e489f",
   "metadata": {},
   "outputs": [],
   "source": [
    "from sklearn.model_selection import cross_val_score"
   ]
  },
  {
   "cell_type": "code",
   "execution_count": 12,
   "id": "16930e34",
   "metadata": {},
   "outputs": [],
   "source": [
    "xinputs = df.select_dtypes('number').copy()\n",
    "youtput = df.loc[:, ['churn']].copy()"
   ]
  },
  {
   "cell_type": "code",
   "execution_count": 13,
   "id": "fb170a54",
   "metadata": {},
   "outputs": [],
   "source": [
    "X_train = xinputs.to_numpy()\n",
    "y_train = youtput.churn.to_numpy().ravel()"
   ]
  },
  {
   "cell_type": "code",
   "execution_count": 14,
   "id": "1d0f1561",
   "metadata": {},
   "outputs": [
    {
     "data": {
      "text/plain": [
       "(5000,)"
      ]
     },
     "execution_count": 14,
     "metadata": {},
     "output_type": "execute_result"
    }
   ],
   "source": [
    "y_train.shape"
   ]
  },
  {
   "cell_type": "code",
   "execution_count": 15,
   "id": "5898fe62",
   "metadata": {},
   "outputs": [
    {
     "data": {
      "text/plain": [
       "(5000, 12)"
      ]
     },
     "execution_count": 15,
     "metadata": {},
     "output_type": "execute_result"
    }
   ],
   "source": [
    "X_train.shape"
   ]
  },
  {
   "cell_type": "code",
   "execution_count": 16,
   "id": "d631be00",
   "metadata": {},
   "outputs": [],
   "source": [
    "enet_default = LogisticRegression(penalty='elasticnet', solver='saga', random_state=101, max_iter=10001,\n",
    "                                  C=1.0, l1_ratio=0.5)"
   ]
  },
  {
   "cell_type": "code",
   "execution_count": 17,
   "id": "e26355c7",
   "metadata": {},
   "outputs": [],
   "source": [
    "default_enet_wflow = Pipeline( steps=[('std_inputs', StandardScaler()), \n",
    "                                      ('enet', enet_default)] )"
   ]
  },
  {
   "cell_type": "code",
   "execution_count": 18,
   "id": "40ae6af5",
   "metadata": {},
   "outputs": [],
   "source": [
    "my_cv = RepeatedStratifiedKFold(n_splits=5, n_repeats=3, random_state=101)"
   ]
  },
  {
   "cell_type": "code",
   "execution_count": 19,
   "id": "e2cc3bac",
   "metadata": {},
   "outputs": [],
   "source": [
    "enet_default_cv = cross_val_score(default_enet_wflow, X_train, y_train, cv=my_cv)"
   ]
  },
  {
   "cell_type": "code",
   "execution_count": 20,
   "id": "631431c5",
   "metadata": {},
   "outputs": [
    {
     "data": {
      "text/plain": [
       "array([0.863, 0.864, 0.864, 0.859, 0.861, 0.863, 0.86 , 0.865, 0.862,\n",
       "       0.862, 0.863, 0.86 , 0.86 , 0.862, 0.862])"
      ]
     },
     "execution_count": 20,
     "metadata": {},
     "output_type": "execute_result"
    }
   ],
   "source": [
    "enet_default_cv\n"
   ]
  },
  {
   "cell_type": "code",
   "execution_count": 21,
   "id": "f945a2e6",
   "metadata": {},
   "outputs": [
    {
     "data": {
      "text/plain": [
       "0.8619999999999999"
      ]
     },
     "execution_count": 21,
     "metadata": {},
     "output_type": "execute_result"
    }
   ],
   "source": [
    "enet_default_cv.mean()"
   ]
  },
  {
   "cell_type": "code",
   "execution_count": 22,
   "id": "f274be6a",
   "metadata": {},
   "outputs": [
    {
     "data": {
      "text/plain": [
       "no     0.8586\n",
       "yes    0.1414\n",
       "Name: churn, dtype: float64"
      ]
     },
     "execution_count": 22,
     "metadata": {},
     "output_type": "execute_result"
    }
   ],
   "source": [
    "df.churn.value_counts(normalize=True)"
   ]
  },
  {
   "cell_type": "code",
   "execution_count": 23,
   "id": "98e2c905",
   "metadata": {},
   "outputs": [],
   "source": [
    "from sklearn.model_selection import GridSearchCV"
   ]
  },
  {
   "cell_type": "code",
   "execution_count": 24,
   "id": "551300bb",
   "metadata": {},
   "outputs": [],
   "source": [
    "enet_to_fit = LogisticRegression(penalty='elasticnet', solver='saga', random_state=101, max_iter=10001)"
   ]
  },
  {
   "cell_type": "code",
   "execution_count": 25,
   "id": "18549f58",
   "metadata": {},
   "outputs": [],
   "source": [
    "enet_cv_wflow = Pipeline( steps = [('std_inputs', StandardScaler()), \n",
    "                                   ('enet', enet_to_fit)] )"
   ]
  },
  {
   "cell_type": "code",
   "execution_count": 26,
   "id": "12f91d59",
   "metadata": {},
   "outputs": [],
   "source": [
    "enet_grid = {'enet__C': np.exp(np.linspace(-6, 6, num=11)),\n",
    "             'enet__l1_ratio': np.linspace(0, 1, num=5)}"
   ]
  },
  {
   "cell_type": "code",
   "execution_count": 27,
   "id": "f52f3a2c",
   "metadata": {},
   "outputs": [],
   "source": [
    "enet_search = GridSearchCV(enet_cv_wflow, param_grid=enet_grid, cv=my_cv)"
   ]
  },
  {
   "cell_type": "code",
   "execution_count": 28,
   "id": "9ef7a71a",
   "metadata": {},
   "outputs": [],
   "source": [
    "enet_search_results = enet_search.fit(X_train, y_train)\n"
   ]
  },
  {
   "cell_type": "code",
   "execution_count": 30,
   "id": "9b08be83",
   "metadata": {},
   "outputs": [
    {
     "data": {
      "text/plain": [
       "0.8620666666666666"
      ]
     },
     "execution_count": 30,
     "metadata": {},
     "output_type": "execute_result"
    }
   ],
   "source": [
    "enet_search_results.best_score_"
   ]
  },
  {
   "cell_type": "code",
   "execution_count": 31,
   "id": "af97072b",
   "metadata": {},
   "outputs": [
    {
     "data": {
      "text/plain": [
       "{'enet__C': 1.0, 'enet__l1_ratio': 0.0}"
      ]
     },
     "execution_count": 31,
     "metadata": {},
     "output_type": "execute_result"
    }
   ],
   "source": [
    "enet_search_results.best_params_"
   ]
  },
  {
   "cell_type": "markdown",
   "id": "a61c9f7a",
   "metadata": {},
   "source": [
    "## Case - 2 Treating `X17` as continuous as `X19` and `X06` as categorical"
   ]
  },
  {
   "cell_type": "code",
   "execution_count": 32,
   "id": "5311e7c6",
   "metadata": {},
   "outputs": [],
   "source": [
    "df_2 = pd.read_csv('ppg_churn.csv')"
   ]
  },
  {
   "cell_type": "code",
   "execution_count": 33,
   "id": "3e593ded",
   "metadata": {},
   "outputs": [],
   "source": [
    "df_2['lump_x19'] = np.where( df_2.X19 > 3, 'Other', df_2.X19.astype('str'))\n",
    "df_2['X06_cat'] = np.where(df_2['X06'] > 0, 1, 0)"
   ]
  },
  {
   "cell_type": "code",
   "execution_count": 34,
   "id": "5801b92e",
   "metadata": {},
   "outputs": [],
   "source": [
    "df_2['X06_cat'] = df_2.X06_cat.astype('str')"
   ]
  },
  {
   "cell_type": "code",
   "execution_count": 35,
   "id": "6ca777b6",
   "metadata": {},
   "outputs": [],
   "source": [
    "df_2 = df_2.drop(columns=['X06', 'X19'])"
   ]
  },
  {
   "cell_type": "code",
   "execution_count": 36,
   "id": "c8712a42",
   "metadata": {},
   "outputs": [],
   "source": [
    "xinputs_2 = df_2.select_dtypes('number').copy()\n",
    "youtput_2 = df_2.loc[:, ['churn']].copy()"
   ]
  },
  {
   "cell_type": "code",
   "execution_count": 37,
   "id": "af59a65b",
   "metadata": {},
   "outputs": [],
   "source": [
    "X_train_2 = xinputs_2.to_numpy()\n",
    "y_train_2 = youtput_2.churn.to_numpy().ravel()"
   ]
  },
  {
   "cell_type": "code",
   "execution_count": 38,
   "id": "dddbdaad",
   "metadata": {},
   "outputs": [
    {
     "data": {
      "text/plain": [
       "(5000, 13)"
      ]
     },
     "execution_count": 38,
     "metadata": {},
     "output_type": "execute_result"
    }
   ],
   "source": [
    "X_train_2.shape"
   ]
  },
  {
   "cell_type": "code",
   "execution_count": 39,
   "id": "456b27e7",
   "metadata": {},
   "outputs": [
    {
     "data": {
      "text/plain": [
       "(5000,)"
      ]
     },
     "execution_count": 39,
     "metadata": {},
     "output_type": "execute_result"
    }
   ],
   "source": [
    "y_train_2.shape"
   ]
  },
  {
   "cell_type": "code",
   "execution_count": 40,
   "id": "1599de81",
   "metadata": {},
   "outputs": [],
   "source": [
    "enet_default_2 = LogisticRegression(penalty='elasticnet', solver='saga', random_state=101, max_iter=10001,\n",
    "                                  C=1.0, l1_ratio=0.5)"
   ]
  },
  {
   "cell_type": "code",
   "execution_count": 41,
   "id": "c11f35fb",
   "metadata": {},
   "outputs": [],
   "source": [
    "default_enet_wflow_2 = Pipeline( steps=[('std_inputs', StandardScaler()), \n",
    "                                      ('enet', enet_default_2)] )"
   ]
  },
  {
   "cell_type": "code",
   "execution_count": 42,
   "id": "f7d8887b",
   "metadata": {},
   "outputs": [],
   "source": [
    "enet_default_cv_2 = cross_val_score(default_enet_wflow_2, X_train_2, y_train_2, cv=my_cv)"
   ]
  },
  {
   "cell_type": "code",
   "execution_count": 43,
   "id": "fedbd9f6",
   "metadata": {},
   "outputs": [
    {
     "data": {
      "text/plain": [
       "array([0.862, 0.863, 0.865, 0.858, 0.86 , 0.862, 0.861, 0.864, 0.861,\n",
       "       0.862, 0.861, 0.859, 0.859, 0.86 , 0.86 ])"
      ]
     },
     "execution_count": 43,
     "metadata": {},
     "output_type": "execute_result"
    }
   ],
   "source": [
    "enet_default_cv_2"
   ]
  },
  {
   "cell_type": "code",
   "execution_count": 44,
   "id": "24b2e9bd",
   "metadata": {},
   "outputs": [
    {
     "data": {
      "text/plain": [
       "0.8611333333333332"
      ]
     },
     "execution_count": 44,
     "metadata": {},
     "output_type": "execute_result"
    }
   ],
   "source": [
    "enet_default_cv_2.mean()"
   ]
  },
  {
   "cell_type": "code",
   "execution_count": 45,
   "id": "1a56f701",
   "metadata": {},
   "outputs": [
    {
     "data": {
      "text/plain": [
       "0.8611333333333332"
      ]
     },
     "execution_count": 45,
     "metadata": {},
     "output_type": "execute_result"
    }
   ],
   "source": [
    "enet_to_fit_2 = LogisticRegression(penalty='elasticnet', solver='saga', random_state=101, max_iter=10001)\n",
    "\n",
    "enet_cv_wflow_2 = Pipeline( steps = [('std_inputs', StandardScaler()), \n",
    "                                   ('enet', enet_to_fit_2)] )\n",
    "\n",
    "enet_search_2 = GridSearchCV(enet_cv_wflow_2, param_grid=enet_grid, cv=my_cv)\n",
    "\n",
    "enet_search_results_2 = enet_search_2.fit(X_train_2, y_train_2)\n",
    "\n",
    "enet_search_results_2.best_params_\n",
    "\n",
    "enet_search_results_2.best_score_"
   ]
  },
  {
   "cell_type": "code",
   "execution_count": null,
   "id": "e0f5d747",
   "metadata": {},
   "outputs": [],
   "source": []
  },
  {
   "cell_type": "markdown",
   "id": "d2dfb162",
   "metadata": {},
   "source": [
    "## Case - 3 Treating `X19` as continuous as `X17` and `X06` as categorical"
   ]
  },
  {
   "cell_type": "code",
   "execution_count": 46,
   "id": "32fde6e1",
   "metadata": {},
   "outputs": [],
   "source": [
    "df_3 = pd.read_csv('ppg_churn.csv')"
   ]
  },
  {
   "cell_type": "code",
   "execution_count": 47,
   "id": "0b6b3229",
   "metadata": {},
   "outputs": [],
   "source": [
    "df_3['lump_x17'] = np.where( df_3.X17 > 7, 'Other', df_3.X17.astype('str'))\n",
    "df_3['X06_cat'] = np.where(df_3['X06'] > 0, 1, 0)"
   ]
  },
  {
   "cell_type": "code",
   "execution_count": 48,
   "id": "d319babd",
   "metadata": {},
   "outputs": [],
   "source": [
    "df_3['X06_cat'] = df_3.X06_cat.astype('str')"
   ]
  },
  {
   "cell_type": "code",
   "execution_count": 49,
   "id": "73476c70",
   "metadata": {},
   "outputs": [],
   "source": [
    "df_3 = df_3.drop(columns=['X06', 'X17'])"
   ]
  },
  {
   "cell_type": "code",
   "execution_count": 50,
   "id": "243fa5a1",
   "metadata": {},
   "outputs": [
    {
     "data": {
      "text/html": [
       "<div>\n",
       "<style scoped>\n",
       "    .dataframe tbody tr th:only-of-type {\n",
       "        vertical-align: middle;\n",
       "    }\n",
       "\n",
       "    .dataframe tbody tr th {\n",
       "        vertical-align: top;\n",
       "    }\n",
       "\n",
       "    .dataframe thead th {\n",
       "        text-align: right;\n",
       "    }\n",
       "</style>\n",
       "<table border=\"1\" class=\"dataframe\">\n",
       "  <thead>\n",
       "    <tr style=\"text-align: right;\">\n",
       "      <th></th>\n",
       "      <th>state</th>\n",
       "      <th>X02</th>\n",
       "      <th>X03</th>\n",
       "      <th>X04</th>\n",
       "      <th>X05</th>\n",
       "      <th>X07</th>\n",
       "      <th>X08</th>\n",
       "      <th>X09</th>\n",
       "      <th>X10</th>\n",
       "      <th>X11</th>\n",
       "      <th>X12</th>\n",
       "      <th>X13</th>\n",
       "      <th>X14</th>\n",
       "      <th>X15</th>\n",
       "      <th>X16</th>\n",
       "      <th>X18</th>\n",
       "      <th>X19</th>\n",
       "      <th>churn</th>\n",
       "      <th>lump_x17</th>\n",
       "      <th>X06_cat</th>\n",
       "    </tr>\n",
       "  </thead>\n",
       "  <tbody>\n",
       "    <tr>\n",
       "      <th>0</th>\n",
       "      <td>KS</td>\n",
       "      <td>128</td>\n",
       "      <td>AA</td>\n",
       "      <td>Z1</td>\n",
       "      <td>V1</td>\n",
       "      <td>265.1</td>\n",
       "      <td>110</td>\n",
       "      <td>45.07</td>\n",
       "      <td>197.4</td>\n",
       "      <td>99</td>\n",
       "      <td>16.78</td>\n",
       "      <td>244.7</td>\n",
       "      <td>91</td>\n",
       "      <td>11.01</td>\n",
       "      <td>10.0</td>\n",
       "      <td>2.70</td>\n",
       "      <td>1</td>\n",
       "      <td>no</td>\n",
       "      <td>3</td>\n",
       "      <td>1</td>\n",
       "    </tr>\n",
       "    <tr>\n",
       "      <th>1</th>\n",
       "      <td>OH</td>\n",
       "      <td>107</td>\n",
       "      <td>AA</td>\n",
       "      <td>Z1</td>\n",
       "      <td>V1</td>\n",
       "      <td>161.6</td>\n",
       "      <td>123</td>\n",
       "      <td>27.47</td>\n",
       "      <td>195.5</td>\n",
       "      <td>103</td>\n",
       "      <td>16.62</td>\n",
       "      <td>254.4</td>\n",
       "      <td>103</td>\n",
       "      <td>11.45</td>\n",
       "      <td>13.7</td>\n",
       "      <td>3.70</td>\n",
       "      <td>1</td>\n",
       "      <td>no</td>\n",
       "      <td>3</td>\n",
       "      <td>1</td>\n",
       "    </tr>\n",
       "    <tr>\n",
       "      <th>2</th>\n",
       "      <td>NJ</td>\n",
       "      <td>137</td>\n",
       "      <td>AA</td>\n",
       "      <td>Z1</td>\n",
       "      <td>V2</td>\n",
       "      <td>243.4</td>\n",
       "      <td>114</td>\n",
       "      <td>41.38</td>\n",
       "      <td>121.2</td>\n",
       "      <td>110</td>\n",
       "      <td>10.30</td>\n",
       "      <td>162.6</td>\n",
       "      <td>104</td>\n",
       "      <td>7.32</td>\n",
       "      <td>12.2</td>\n",
       "      <td>3.29</td>\n",
       "      <td>0</td>\n",
       "      <td>no</td>\n",
       "      <td>5</td>\n",
       "      <td>0</td>\n",
       "    </tr>\n",
       "    <tr>\n",
       "      <th>3</th>\n",
       "      <td>OH</td>\n",
       "      <td>84</td>\n",
       "      <td>BB</td>\n",
       "      <td>Z2</td>\n",
       "      <td>V2</td>\n",
       "      <td>299.4</td>\n",
       "      <td>71</td>\n",
       "      <td>50.90</td>\n",
       "      <td>61.9</td>\n",
       "      <td>88</td>\n",
       "      <td>5.26</td>\n",
       "      <td>196.9</td>\n",
       "      <td>89</td>\n",
       "      <td>8.86</td>\n",
       "      <td>6.6</td>\n",
       "      <td>1.78</td>\n",
       "      <td>2</td>\n",
       "      <td>no</td>\n",
       "      <td>7</td>\n",
       "      <td>0</td>\n",
       "    </tr>\n",
       "    <tr>\n",
       "      <th>4</th>\n",
       "      <td>OK</td>\n",
       "      <td>75</td>\n",
       "      <td>AA</td>\n",
       "      <td>Z2</td>\n",
       "      <td>V2</td>\n",
       "      <td>166.7</td>\n",
       "      <td>113</td>\n",
       "      <td>28.34</td>\n",
       "      <td>148.3</td>\n",
       "      <td>122</td>\n",
       "      <td>12.61</td>\n",
       "      <td>186.9</td>\n",
       "      <td>121</td>\n",
       "      <td>8.41</td>\n",
       "      <td>10.1</td>\n",
       "      <td>2.73</td>\n",
       "      <td>3</td>\n",
       "      <td>no</td>\n",
       "      <td>3</td>\n",
       "      <td>0</td>\n",
       "    </tr>\n",
       "  </tbody>\n",
       "</table>\n",
       "</div>"
      ],
      "text/plain": [
       "  state  X02 X03 X04 X05    X07  X08    X09    X10  X11    X12    X13  X14  \\\n",
       "0    KS  128  AA  Z1  V1  265.1  110  45.07  197.4   99  16.78  244.7   91   \n",
       "1    OH  107  AA  Z1  V1  161.6  123  27.47  195.5  103  16.62  254.4  103   \n",
       "2    NJ  137  AA  Z1  V2  243.4  114  41.38  121.2  110  10.30  162.6  104   \n",
       "3    OH   84  BB  Z2  V2  299.4   71  50.90   61.9   88   5.26  196.9   89   \n",
       "4    OK   75  AA  Z2  V2  166.7  113  28.34  148.3  122  12.61  186.9  121   \n",
       "\n",
       "     X15   X16   X18  X19 churn lump_x17 X06_cat  \n",
       "0  11.01  10.0  2.70    1    no        3       1  \n",
       "1  11.45  13.7  3.70    1    no        3       1  \n",
       "2   7.32  12.2  3.29    0    no        5       0  \n",
       "3   8.86   6.6  1.78    2    no        7       0  \n",
       "4   8.41  10.1  2.73    3    no        3       0  "
      ]
     },
     "execution_count": 50,
     "metadata": {},
     "output_type": "execute_result"
    }
   ],
   "source": [
    "df_3.head()"
   ]
  },
  {
   "cell_type": "code",
   "execution_count": 51,
   "id": "b7694c24",
   "metadata": {},
   "outputs": [
    {
     "name": "stdout",
     "output_type": "stream",
     "text": [
      "<class 'pandas.core.frame.DataFrame'>\n",
      "RangeIndex: 5000 entries, 0 to 4999\n",
      "Data columns (total 20 columns):\n",
      " #   Column    Non-Null Count  Dtype  \n",
      "---  ------    --------------  -----  \n",
      " 0   state     5000 non-null   object \n",
      " 1   X02       5000 non-null   int64  \n",
      " 2   X03       5000 non-null   object \n",
      " 3   X04       5000 non-null   object \n",
      " 4   X05       5000 non-null   object \n",
      " 5   X07       5000 non-null   float64\n",
      " 6   X08       5000 non-null   int64  \n",
      " 7   X09       5000 non-null   float64\n",
      " 8   X10       5000 non-null   float64\n",
      " 9   X11       5000 non-null   int64  \n",
      " 10  X12       5000 non-null   float64\n",
      " 11  X13       5000 non-null   float64\n",
      " 12  X14       5000 non-null   int64  \n",
      " 13  X15       5000 non-null   float64\n",
      " 14  X16       5000 non-null   float64\n",
      " 15  X18       5000 non-null   float64\n",
      " 16  X19       5000 non-null   int64  \n",
      " 17  churn     5000 non-null   object \n",
      " 18  lump_x17  5000 non-null   object \n",
      " 19  X06_cat   5000 non-null   object \n",
      "dtypes: float64(8), int64(5), object(7)\n",
      "memory usage: 781.4+ KB\n"
     ]
    }
   ],
   "source": [
    "df_3.info()"
   ]
  },
  {
   "cell_type": "code",
   "execution_count": 52,
   "id": "5e8a7796",
   "metadata": {},
   "outputs": [],
   "source": [
    "xinputs_3 = df_3.select_dtypes('number').copy()\n",
    "youtput_3 = df_3.loc[:, ['churn']].copy()\n",
    "\n",
    "X_train_3 = xinputs_3.to_numpy()\n",
    "y_train_3 = youtput_3.churn.to_numpy().ravel()"
   ]
  },
  {
   "cell_type": "code",
   "execution_count": 53,
   "id": "0c7491dc",
   "metadata": {},
   "outputs": [
    {
     "data": {
      "text/plain": [
       "(5000, 13)"
      ]
     },
     "execution_count": 53,
     "metadata": {},
     "output_type": "execute_result"
    }
   ],
   "source": [
    "X_train_3.shape"
   ]
  },
  {
   "cell_type": "code",
   "execution_count": 54,
   "id": "f02e2e66",
   "metadata": {},
   "outputs": [
    {
     "data": {
      "text/plain": [
       "0.8584666666666667"
      ]
     },
     "execution_count": 54,
     "metadata": {},
     "output_type": "execute_result"
    }
   ],
   "source": [
    "enet_default_3 = LogisticRegression(penalty='elasticnet', solver='saga', random_state=101, max_iter=10001,\n",
    "                                  C=1.0, l1_ratio=0.5)\n",
    "\n",
    "default_enet_wflow_3 = Pipeline( steps=[('std_inputs', StandardScaler()), \n",
    "                                      ('enet', enet_default_3)] )\n",
    "\n",
    "enet_default_cv_3 = cross_val_score(default_enet_wflow_3, X_train_3, y_train_3, cv=my_cv)\n",
    "\n",
    "enet_default_cv_3\n",
    "\n",
    "enet_default_cv_3.mean()"
   ]
  },
  {
   "cell_type": "code",
   "execution_count": 55,
   "id": "442a9dff",
   "metadata": {},
   "outputs": [
    {
     "data": {
      "text/plain": [
       "0.8600666666666668"
      ]
     },
     "execution_count": 55,
     "metadata": {},
     "output_type": "execute_result"
    }
   ],
   "source": [
    "enet_to_fit_3 = LogisticRegression(penalty='elasticnet', solver='saga', random_state=101, max_iter=10001)\n",
    "\n",
    "enet_cv_wflow_3 = Pipeline( steps = [('std_inputs', StandardScaler()), \n",
    "                                   ('enet', enet_to_fit_3)] )\n",
    "\n",
    "enet_search_3 = GridSearchCV(enet_cv_wflow_3, param_grid=enet_grid, cv=my_cv)\n",
    "\n",
    "enet_search_results_3 = enet_search_3.fit(X_train_3, y_train_3)\n",
    "\n",
    "enet_search_results_3.best_params_\n",
    "\n",
    "enet_search_results_3.best_score_"
   ]
  },
  {
   "cell_type": "code",
   "execution_count": null,
   "id": "f27d2559",
   "metadata": {},
   "outputs": [],
   "source": []
  },
  {
   "cell_type": "markdown",
   "id": "2a2690b0",
   "metadata": {},
   "source": [
    "## Case - 4 Treating `X19` and `X17` as continuous and `X06` as categorical"
   ]
  },
  {
   "cell_type": "code",
   "execution_count": 56,
   "id": "60d7878f",
   "metadata": {},
   "outputs": [],
   "source": [
    "df_4 = pd.read_csv('ppg_churn.csv')"
   ]
  },
  {
   "cell_type": "code",
   "execution_count": 57,
   "id": "0ae7c6d8",
   "metadata": {},
   "outputs": [],
   "source": [
    "df_4['X06_cat'] = np.where(df_4['X06'] > 0, 1, 0)"
   ]
  },
  {
   "cell_type": "code",
   "execution_count": 58,
   "id": "5fe35299",
   "metadata": {},
   "outputs": [],
   "source": [
    "df_4['X06_cat'] = df_4.X06_cat.astype('str')"
   ]
  },
  {
   "cell_type": "code",
   "execution_count": 59,
   "id": "0f71eefb",
   "metadata": {},
   "outputs": [],
   "source": [
    "df_4 = df_4.drop(columns=['X06'])"
   ]
  },
  {
   "cell_type": "code",
   "execution_count": 60,
   "id": "d3a782e8",
   "metadata": {},
   "outputs": [],
   "source": [
    "xinputs_4 = df_4.select_dtypes('number').copy()\n",
    "youtput_4 = df_4.loc[:, ['churn']].copy()\n",
    "\n",
    "X_train_4 = xinputs_4.to_numpy()\n",
    "y_train_4 = youtput_4.churn.to_numpy().ravel()"
   ]
  },
  {
   "cell_type": "code",
   "execution_count": 61,
   "id": "59b722c7",
   "metadata": {},
   "outputs": [
    {
     "data": {
      "text/plain": [
       "(5000, 14)"
      ]
     },
     "execution_count": 61,
     "metadata": {},
     "output_type": "execute_result"
    }
   ],
   "source": [
    "X_train_4.shape"
   ]
  },
  {
   "cell_type": "code",
   "execution_count": 62,
   "id": "6363b93d",
   "metadata": {},
   "outputs": [
    {
     "data": {
      "text/plain": [
       "0.8584666666666667"
      ]
     },
     "execution_count": 62,
     "metadata": {},
     "output_type": "execute_result"
    }
   ],
   "source": [
    "enet_default_4 = LogisticRegression(penalty='elasticnet', solver='saga', random_state=101, max_iter=10001,\n",
    "                                  C=1.0, l1_ratio=0.5)\n",
    "\n",
    "default_enet_wflow_4 = Pipeline( steps=[('std_inputs', StandardScaler()), \n",
    "                                      ('enet', enet_default_4)] )\n",
    "\n",
    "enet_default_cv_4 = cross_val_score(default_enet_wflow_4, X_train_4, y_train_4, cv=my_cv)\n",
    "\n",
    "enet_default_cv_4\n",
    "\n",
    "enet_default_cv_4.mean()"
   ]
  },
  {
   "cell_type": "code",
   "execution_count": 63,
   "id": "bb0d3558",
   "metadata": {},
   "outputs": [
    {
     "data": {
      "text/plain": [
       "0.8603999999999999"
      ]
     },
     "execution_count": 63,
     "metadata": {},
     "output_type": "execute_result"
    }
   ],
   "source": [
    "enet_to_fit_4 = LogisticRegression(penalty='elasticnet', solver='saga', random_state=101, max_iter=10001)\n",
    "\n",
    "enet_cv_wflow_4 = Pipeline( steps = [('std_inputs', StandardScaler()), \n",
    "                                   ('enet', enet_to_fit_4)] )\n",
    "\n",
    "enet_search_4 = GridSearchCV(enet_cv_wflow_4, param_grid=enet_grid, cv=my_cv)\n",
    "\n",
    "enet_search_results_4 = enet_search_4.fit(X_train_4, y_train_4)\n",
    "\n",
    "enet_search_results_4.best_params_\n",
    "\n",
    "enet_search_results_4.best_score_"
   ]
  },
  {
   "cell_type": "code",
   "execution_count": null,
   "id": "065fe4cc",
   "metadata": {},
   "outputs": [],
   "source": []
  },
  {
   "cell_type": "markdown",
   "id": "27ec753c",
   "metadata": {},
   "source": [
    "## Case - 5 Treating `X17` and `X19` as categorical and `X06` as continuous"
   ]
  },
  {
   "cell_type": "code",
   "execution_count": 64,
   "id": "0a7df11b",
   "metadata": {},
   "outputs": [],
   "source": [
    "df_5 = pd.read_csv('ppg_churn.csv')"
   ]
  },
  {
   "cell_type": "code",
   "execution_count": 65,
   "id": "c0656986",
   "metadata": {},
   "outputs": [],
   "source": [
    "df_5['lump_x17'] = np.where( df_5.X17 > 7, 'Other', df_5.X17.astype('str'))\n",
    "df_5['lump_x19'] = np.where( df_5.X19 > 3, 'Other', df_5.X19.astype('str'))"
   ]
  },
  {
   "cell_type": "code",
   "execution_count": 66,
   "id": "b8844f75",
   "metadata": {},
   "outputs": [],
   "source": [
    "df_5['X06_trans'] = np.log(df_5.X06 + 0.001)"
   ]
  },
  {
   "cell_type": "code",
   "execution_count": 67,
   "id": "23be4f9a",
   "metadata": {},
   "outputs": [],
   "source": [
    "df_5 = df_5.drop(columns=['X06', 'X17', 'X19'])"
   ]
  },
  {
   "cell_type": "code",
   "execution_count": 68,
   "id": "aa604c3d",
   "metadata": {},
   "outputs": [
    {
     "data": {
      "text/plain": [
       "(5000, 20)"
      ]
     },
     "execution_count": 68,
     "metadata": {},
     "output_type": "execute_result"
    }
   ],
   "source": [
    "df_5.shape"
   ]
  },
  {
   "cell_type": "code",
   "execution_count": 69,
   "id": "52f4d7b2",
   "metadata": {},
   "outputs": [
    {
     "name": "stdout",
     "output_type": "stream",
     "text": [
      "<class 'pandas.core.frame.DataFrame'>\n",
      "RangeIndex: 5000 entries, 0 to 4999\n",
      "Data columns (total 20 columns):\n",
      " #   Column     Non-Null Count  Dtype  \n",
      "---  ------     --------------  -----  \n",
      " 0   state      5000 non-null   object \n",
      " 1   X02        5000 non-null   int64  \n",
      " 2   X03        5000 non-null   object \n",
      " 3   X04        5000 non-null   object \n",
      " 4   X05        5000 non-null   object \n",
      " 5   X07        5000 non-null   float64\n",
      " 6   X08        5000 non-null   int64  \n",
      " 7   X09        5000 non-null   float64\n",
      " 8   X10        5000 non-null   float64\n",
      " 9   X11        5000 non-null   int64  \n",
      " 10  X12        5000 non-null   float64\n",
      " 11  X13        5000 non-null   float64\n",
      " 12  X14        5000 non-null   int64  \n",
      " 13  X15        5000 non-null   float64\n",
      " 14  X16        5000 non-null   float64\n",
      " 15  X18        5000 non-null   float64\n",
      " 16  churn      5000 non-null   object \n",
      " 17  lump_x17   5000 non-null   object \n",
      " 18  lump_x19   5000 non-null   object \n",
      " 19  X06_trans  5000 non-null   float64\n",
      "dtypes: float64(9), int64(4), object(7)\n",
      "memory usage: 781.4+ KB\n"
     ]
    }
   ],
   "source": [
    "df_5.info()"
   ]
  },
  {
   "cell_type": "code",
   "execution_count": 70,
   "id": "77d6ffad",
   "metadata": {},
   "outputs": [],
   "source": [
    "xinputs_5 = df_5.select_dtypes('number').copy()\n",
    "youtput_5 = df_5.loc[:, ['churn']].copy()\n",
    "\n",
    "X_train_5 = xinputs_5.to_numpy()\n",
    "y_train_5 = youtput_5.churn.to_numpy().ravel()"
   ]
  },
  {
   "cell_type": "code",
   "execution_count": 71,
   "id": "c4313a66",
   "metadata": {},
   "outputs": [
    {
     "data": {
      "text/plain": [
       "(5000, 13)"
      ]
     },
     "execution_count": 71,
     "metadata": {},
     "output_type": "execute_result"
    }
   ],
   "source": [
    "X_train_5.shape"
   ]
  },
  {
   "cell_type": "code",
   "execution_count": 72,
   "id": "1caaf30a",
   "metadata": {},
   "outputs": [
    {
     "data": {
      "text/plain": [
       "0.8654666666666666"
      ]
     },
     "execution_count": 72,
     "metadata": {},
     "output_type": "execute_result"
    }
   ],
   "source": [
    "enet_default_5 = LogisticRegression(penalty='elasticnet', solver='saga', random_state=101, max_iter=10001,\n",
    "                                  C=1.0, l1_ratio=0.5)\n",
    "\n",
    "default_enet_wflow_5 = Pipeline( steps=[('std_inputs', StandardScaler()), \n",
    "                                      ('enet', enet_default_5)] )\n",
    "\n",
    "enet_default_cv_5 = cross_val_score(default_enet_wflow_5, X_train_5, y_train_5, cv=my_cv)\n",
    "\n",
    "enet_default_cv_5\n",
    "\n",
    "enet_default_cv_5.mean()"
   ]
  },
  {
   "cell_type": "code",
   "execution_count": 73,
   "id": "f50dbb20",
   "metadata": {},
   "outputs": [
    {
     "data": {
      "text/plain": [
       "0.8656666666666666"
      ]
     },
     "execution_count": 73,
     "metadata": {},
     "output_type": "execute_result"
    }
   ],
   "source": [
    "enet_to_fit_5 = LogisticRegression(penalty='elasticnet', solver='saga', random_state=101, max_iter=10001)\n",
    "\n",
    "enet_cv_wflow_5 = Pipeline( steps = [('std_inputs', StandardScaler()), \n",
    "                                   ('enet', enet_to_fit_5)] )\n",
    "\n",
    "enet_search_5 = GridSearchCV(enet_cv_wflow_5, param_grid=enet_grid, cv=my_cv)\n",
    "\n",
    "enet_search_results_5 = enet_search_5.fit(X_train_5, y_train_5)\n",
    "\n",
    "enet_search_results_5.best_params_\n",
    "\n",
    "enet_search_results_5.best_score_"
   ]
  },
  {
   "cell_type": "code",
   "execution_count": null,
   "id": "41e2593d",
   "metadata": {},
   "outputs": [],
   "source": []
  },
  {
   "cell_type": "code",
   "execution_count": null,
   "id": "db5e83da",
   "metadata": {},
   "outputs": [],
   "source": []
  },
  {
   "cell_type": "markdown",
   "id": "0ee5254a",
   "metadata": {},
   "source": [
    "## Case - 6 Treating `X19` as categorical and `X17` and  `X06` as continuous"
   ]
  },
  {
   "cell_type": "code",
   "execution_count": 74,
   "id": "26b35be8",
   "metadata": {},
   "outputs": [],
   "source": [
    "df_6 = pd.read_csv('ppg_churn.csv')"
   ]
  },
  {
   "cell_type": "code",
   "execution_count": 75,
   "id": "75da4f4e",
   "metadata": {},
   "outputs": [],
   "source": [
    "df_6['lump_x19'] = np.where( df_6.X19 > 3, 'Other', df_6.X19.astype('str'))"
   ]
  },
  {
   "cell_type": "code",
   "execution_count": 76,
   "id": "0db48d80",
   "metadata": {},
   "outputs": [],
   "source": [
    "df_6['X06_trans'] = np.log(df_6.X06 + 0.001)"
   ]
  },
  {
   "cell_type": "code",
   "execution_count": 77,
   "id": "c14607d1",
   "metadata": {},
   "outputs": [],
   "source": [
    "df_6 = df_6.drop(columns=['X06', 'X19'])"
   ]
  },
  {
   "cell_type": "code",
   "execution_count": 78,
   "id": "a375b0bb",
   "metadata": {},
   "outputs": [],
   "source": [
    "xinputs_6 = df_6.select_dtypes('number').copy()\n",
    "youtput_6 = df_6.loc[:, ['churn']].copy()\n",
    "\n",
    "X_train_6 = xinputs_6.to_numpy()\n",
    "y_train_6 = youtput_6.churn.to_numpy().ravel()"
   ]
  },
  {
   "cell_type": "code",
   "execution_count": 79,
   "id": "6d8aedaa",
   "metadata": {},
   "outputs": [
    {
     "data": {
      "text/plain": [
       "(5000, 14)"
      ]
     },
     "execution_count": 79,
     "metadata": {},
     "output_type": "execute_result"
    }
   ],
   "source": [
    "X_train_6.shape"
   ]
  },
  {
   "cell_type": "code",
   "execution_count": 80,
   "id": "12026b5a",
   "metadata": {},
   "outputs": [
    {
     "data": {
      "text/plain": [
       "0.8661333333333333"
      ]
     },
     "execution_count": 80,
     "metadata": {},
     "output_type": "execute_result"
    }
   ],
   "source": [
    "enet_default_6 = LogisticRegression(penalty='elasticnet', solver='saga', random_state=101, max_iter=10001,\n",
    "                                  C=1.0, l1_ratio=0.5)\n",
    "\n",
    "default_enet_wflow_6 = Pipeline( steps=[('std_inputs', StandardScaler()), \n",
    "                                      ('enet', enet_default_6)] )\n",
    "\n",
    "enet_default_cv_6 = cross_val_score(default_enet_wflow_6, X_train_6, y_train_6, cv=my_cv)\n",
    "\n",
    "enet_default_cv_6\n",
    "\n",
    "enet_default_cv_6.mean()"
   ]
  },
  {
   "cell_type": "code",
   "execution_count": 81,
   "id": "c01e80f4",
   "metadata": {},
   "outputs": [
    {
     "data": {
      "text/plain": [
       "0.8662666666666667"
      ]
     },
     "execution_count": 81,
     "metadata": {},
     "output_type": "execute_result"
    }
   ],
   "source": [
    "enet_to_fit_6 = LogisticRegression(penalty='elasticnet', solver='saga', random_state=101, max_iter=10001)\n",
    "\n",
    "enet_cv_wflow_6 = Pipeline( steps = [('std_inputs', StandardScaler()), \n",
    "                                   ('enet', enet_to_fit_6)] )\n",
    "\n",
    "enet_search_6 = GridSearchCV(enet_cv_wflow_6, param_grid=enet_grid, cv=my_cv)\n",
    "\n",
    "enet_search_results_6 = enet_search_6.fit(X_train_6, y_train_6)\n",
    "\n",
    "enet_search_results_6.best_params_\n",
    "\n",
    "enet_search_results_6.best_score_"
   ]
  },
  {
   "cell_type": "code",
   "execution_count": null,
   "id": "4aaa9a6c",
   "metadata": {},
   "outputs": [],
   "source": []
  },
  {
   "cell_type": "markdown",
   "id": "6b423c73",
   "metadata": {},
   "source": [
    "## Case - 7 Treating `X17` as categorical and `X19` and  `X06` as continuous"
   ]
  },
  {
   "cell_type": "code",
   "execution_count": 82,
   "id": "1b535afb",
   "metadata": {},
   "outputs": [],
   "source": [
    "df_7 = pd.read_csv('ppg_churn.csv')"
   ]
  },
  {
   "cell_type": "code",
   "execution_count": 83,
   "id": "4804a17f",
   "metadata": {},
   "outputs": [],
   "source": [
    "df_7['lump_x17'] = np.where( df_7.X17 > 7, 'Other', df_7.X17.astype('str'))"
   ]
  },
  {
   "cell_type": "code",
   "execution_count": 84,
   "id": "425399a6",
   "metadata": {},
   "outputs": [],
   "source": [
    "df_7['X06_trans'] = np.log(df_7.X06 + 0.001)"
   ]
  },
  {
   "cell_type": "code",
   "execution_count": 85,
   "id": "0c87ddcf",
   "metadata": {},
   "outputs": [],
   "source": [
    "df_7 = df_7.drop(columns=['X06', 'X17'])"
   ]
  },
  {
   "cell_type": "code",
   "execution_count": 86,
   "id": "e3557842",
   "metadata": {},
   "outputs": [],
   "source": [
    "xinputs_7 = df_7.select_dtypes('number').copy()\n",
    "youtput_7 = df_7.loc[:, ['churn']].copy()\n",
    "\n",
    "X_train_7 = xinputs_7.to_numpy()\n",
    "y_train_7 = youtput_7.churn.to_numpy().ravel()"
   ]
  },
  {
   "cell_type": "code",
   "execution_count": 87,
   "id": "57d203ff",
   "metadata": {},
   "outputs": [
    {
     "data": {
      "text/plain": [
       "(5000, 14)"
      ]
     },
     "execution_count": 87,
     "metadata": {},
     "output_type": "execute_result"
    }
   ],
   "source": [
    "X_train_7.shape"
   ]
  },
  {
   "cell_type": "code",
   "execution_count": 88,
   "id": "0d6a4369",
   "metadata": {},
   "outputs": [
    {
     "data": {
      "text/plain": [
       "0.8632666666666667"
      ]
     },
     "execution_count": 88,
     "metadata": {},
     "output_type": "execute_result"
    }
   ],
   "source": [
    "enet_default_7 = LogisticRegression(penalty='elasticnet', solver='saga', random_state=101, max_iter=10001,\n",
    "                                  C=1.0, l1_ratio=0.5)\n",
    "\n",
    "default_enet_wflow_7 = Pipeline( steps=[('std_inputs', StandardScaler()), \n",
    "                                      ('enet', enet_default_7)] )\n",
    "\n",
    "enet_default_cv_7 = cross_val_score(default_enet_wflow_7, X_train_7, y_train_7, cv=my_cv)\n",
    "\n",
    "enet_default_cv_7\n",
    "\n",
    "enet_default_cv_7.mean()"
   ]
  },
  {
   "cell_type": "code",
   "execution_count": 89,
   "id": "12c0e948",
   "metadata": {},
   "outputs": [
    {
     "ename": "KeyboardInterrupt",
     "evalue": "",
     "output_type": "error",
     "traceback": [
      "\u001b[1;31m---------------------------------------------------------------------------\u001b[0m",
      "\u001b[1;31mKeyboardInterrupt\u001b[0m                         Traceback (most recent call last)",
      "\u001b[1;32m~\\AppData\\Local\\Temp/ipykernel_11032/1182989227.py\u001b[0m in \u001b[0;36m<module>\u001b[1;34m\u001b[0m\n\u001b[0;32m      6\u001b[0m \u001b[0menet_search_7\u001b[0m \u001b[1;33m=\u001b[0m \u001b[0mGridSearchCV\u001b[0m\u001b[1;33m(\u001b[0m\u001b[0menet_cv_wflow_7\u001b[0m\u001b[1;33m,\u001b[0m \u001b[0mparam_grid\u001b[0m\u001b[1;33m=\u001b[0m\u001b[0menet_grid\u001b[0m\u001b[1;33m,\u001b[0m \u001b[0mcv\u001b[0m\u001b[1;33m=\u001b[0m\u001b[0mmy_cv\u001b[0m\u001b[1;33m)\u001b[0m\u001b[1;33m\u001b[0m\u001b[1;33m\u001b[0m\u001b[0m\n\u001b[0;32m      7\u001b[0m \u001b[1;33m\u001b[0m\u001b[0m\n\u001b[1;32m----> 8\u001b[1;33m \u001b[0menet_search_results_7\u001b[0m \u001b[1;33m=\u001b[0m \u001b[0menet_search_7\u001b[0m\u001b[1;33m.\u001b[0m\u001b[0mfit\u001b[0m\u001b[1;33m(\u001b[0m\u001b[0mX_train_7\u001b[0m\u001b[1;33m,\u001b[0m \u001b[0my_train_7\u001b[0m\u001b[1;33m)\u001b[0m\u001b[1;33m\u001b[0m\u001b[1;33m\u001b[0m\u001b[0m\n\u001b[0m\u001b[0;32m      9\u001b[0m \u001b[1;33m\u001b[0m\u001b[0m\n\u001b[0;32m     10\u001b[0m \u001b[0menet_search_results_7\u001b[0m\u001b[1;33m.\u001b[0m\u001b[0mbest_params_\u001b[0m\u001b[1;33m\u001b[0m\u001b[1;33m\u001b[0m\u001b[0m\n",
      "\u001b[1;32m~\\anaconda3\\envs\\cmpinf2100\\lib\\site-packages\\sklearn\\utils\\validation.py\u001b[0m in \u001b[0;36minner_f\u001b[1;34m(*args, **kwargs)\u001b[0m\n\u001b[0;32m     61\u001b[0m             \u001b[0mextra_args\u001b[0m \u001b[1;33m=\u001b[0m \u001b[0mlen\u001b[0m\u001b[1;33m(\u001b[0m\u001b[0margs\u001b[0m\u001b[1;33m)\u001b[0m \u001b[1;33m-\u001b[0m \u001b[0mlen\u001b[0m\u001b[1;33m(\u001b[0m\u001b[0mall_args\u001b[0m\u001b[1;33m)\u001b[0m\u001b[1;33m\u001b[0m\u001b[1;33m\u001b[0m\u001b[0m\n\u001b[0;32m     62\u001b[0m             \u001b[1;32mif\u001b[0m \u001b[0mextra_args\u001b[0m \u001b[1;33m<=\u001b[0m \u001b[1;36m0\u001b[0m\u001b[1;33m:\u001b[0m\u001b[1;33m\u001b[0m\u001b[1;33m\u001b[0m\u001b[0m\n\u001b[1;32m---> 63\u001b[1;33m                 \u001b[1;32mreturn\u001b[0m \u001b[0mf\u001b[0m\u001b[1;33m(\u001b[0m\u001b[1;33m*\u001b[0m\u001b[0margs\u001b[0m\u001b[1;33m,\u001b[0m \u001b[1;33m**\u001b[0m\u001b[0mkwargs\u001b[0m\u001b[1;33m)\u001b[0m\u001b[1;33m\u001b[0m\u001b[1;33m\u001b[0m\u001b[0m\n\u001b[0m\u001b[0;32m     64\u001b[0m \u001b[1;33m\u001b[0m\u001b[0m\n\u001b[0;32m     65\u001b[0m             \u001b[1;31m# extra_args > 0\u001b[0m\u001b[1;33m\u001b[0m\u001b[1;33m\u001b[0m\u001b[1;33m\u001b[0m\u001b[0m\n",
      "\u001b[1;32m~\\anaconda3\\envs\\cmpinf2100\\lib\\site-packages\\sklearn\\model_selection\\_search.py\u001b[0m in \u001b[0;36mfit\u001b[1;34m(self, X, y, groups, **fit_params)\u001b[0m\n\u001b[0;32m    839\u001b[0m                 \u001b[1;32mreturn\u001b[0m \u001b[0mresults\u001b[0m\u001b[1;33m\u001b[0m\u001b[1;33m\u001b[0m\u001b[0m\n\u001b[0;32m    840\u001b[0m \u001b[1;33m\u001b[0m\u001b[0m\n\u001b[1;32m--> 841\u001b[1;33m             \u001b[0mself\u001b[0m\u001b[1;33m.\u001b[0m\u001b[0m_run_search\u001b[0m\u001b[1;33m(\u001b[0m\u001b[0mevaluate_candidates\u001b[0m\u001b[1;33m)\u001b[0m\u001b[1;33m\u001b[0m\u001b[1;33m\u001b[0m\u001b[0m\n\u001b[0m\u001b[0;32m    842\u001b[0m \u001b[1;33m\u001b[0m\u001b[0m\n\u001b[0;32m    843\u001b[0m             \u001b[1;31m# multimetric is determined here because in the case of a callable\u001b[0m\u001b[1;33m\u001b[0m\u001b[1;33m\u001b[0m\u001b[1;33m\u001b[0m\u001b[0m\n",
      "\u001b[1;32m~\\anaconda3\\envs\\cmpinf2100\\lib\\site-packages\\sklearn\\model_selection\\_search.py\u001b[0m in \u001b[0;36m_run_search\u001b[1;34m(self, evaluate_candidates)\u001b[0m\n\u001b[0;32m   1294\u001b[0m     \u001b[1;32mdef\u001b[0m \u001b[0m_run_search\u001b[0m\u001b[1;33m(\u001b[0m\u001b[0mself\u001b[0m\u001b[1;33m,\u001b[0m \u001b[0mevaluate_candidates\u001b[0m\u001b[1;33m)\u001b[0m\u001b[1;33m:\u001b[0m\u001b[1;33m\u001b[0m\u001b[1;33m\u001b[0m\u001b[0m\n\u001b[0;32m   1295\u001b[0m         \u001b[1;34m\"\"\"Search all candidates in param_grid\"\"\"\u001b[0m\u001b[1;33m\u001b[0m\u001b[1;33m\u001b[0m\u001b[0m\n\u001b[1;32m-> 1296\u001b[1;33m         \u001b[0mevaluate_candidates\u001b[0m\u001b[1;33m(\u001b[0m\u001b[0mParameterGrid\u001b[0m\u001b[1;33m(\u001b[0m\u001b[0mself\u001b[0m\u001b[1;33m.\u001b[0m\u001b[0mparam_grid\u001b[0m\u001b[1;33m)\u001b[0m\u001b[1;33m)\u001b[0m\u001b[1;33m\u001b[0m\u001b[1;33m\u001b[0m\u001b[0m\n\u001b[0m\u001b[0;32m   1297\u001b[0m \u001b[1;33m\u001b[0m\u001b[0m\n\u001b[0;32m   1298\u001b[0m \u001b[1;33m\u001b[0m\u001b[0m\n",
      "\u001b[1;32m~\\anaconda3\\envs\\cmpinf2100\\lib\\site-packages\\sklearn\\model_selection\\_search.py\u001b[0m in \u001b[0;36mevaluate_candidates\u001b[1;34m(candidate_params, cv, more_results)\u001b[0m\n\u001b[0;32m    793\u001b[0m                               n_splits, n_candidates, n_candidates * n_splits))\n\u001b[0;32m    794\u001b[0m \u001b[1;33m\u001b[0m\u001b[0m\n\u001b[1;32m--> 795\u001b[1;33m                 out = parallel(delayed(_fit_and_score)(clone(base_estimator),\n\u001b[0m\u001b[0;32m    796\u001b[0m                                                        \u001b[0mX\u001b[0m\u001b[1;33m,\u001b[0m \u001b[0my\u001b[0m\u001b[1;33m,\u001b[0m\u001b[1;33m\u001b[0m\u001b[1;33m\u001b[0m\u001b[0m\n\u001b[0;32m    797\u001b[0m                                                        \u001b[0mtrain\u001b[0m\u001b[1;33m=\u001b[0m\u001b[0mtrain\u001b[0m\u001b[1;33m,\u001b[0m \u001b[0mtest\u001b[0m\u001b[1;33m=\u001b[0m\u001b[0mtest\u001b[0m\u001b[1;33m,\u001b[0m\u001b[1;33m\u001b[0m\u001b[1;33m\u001b[0m\u001b[0m\n",
      "\u001b[1;32m~\\anaconda3\\envs\\cmpinf2100\\lib\\site-packages\\joblib\\parallel.py\u001b[0m in \u001b[0;36m__call__\u001b[1;34m(self, iterable)\u001b[0m\n\u001b[0;32m   1042\u001b[0m                 \u001b[0mself\u001b[0m\u001b[1;33m.\u001b[0m\u001b[0m_iterating\u001b[0m \u001b[1;33m=\u001b[0m \u001b[0mself\u001b[0m\u001b[1;33m.\u001b[0m\u001b[0m_original_iterator\u001b[0m \u001b[1;32mis\u001b[0m \u001b[1;32mnot\u001b[0m \u001b[1;32mNone\u001b[0m\u001b[1;33m\u001b[0m\u001b[1;33m\u001b[0m\u001b[0m\n\u001b[0;32m   1043\u001b[0m \u001b[1;33m\u001b[0m\u001b[0m\n\u001b[1;32m-> 1044\u001b[1;33m             \u001b[1;32mwhile\u001b[0m \u001b[0mself\u001b[0m\u001b[1;33m.\u001b[0m\u001b[0mdispatch_one_batch\u001b[0m\u001b[1;33m(\u001b[0m\u001b[0miterator\u001b[0m\u001b[1;33m)\u001b[0m\u001b[1;33m:\u001b[0m\u001b[1;33m\u001b[0m\u001b[1;33m\u001b[0m\u001b[0m\n\u001b[0m\u001b[0;32m   1045\u001b[0m                 \u001b[1;32mpass\u001b[0m\u001b[1;33m\u001b[0m\u001b[1;33m\u001b[0m\u001b[0m\n\u001b[0;32m   1046\u001b[0m \u001b[1;33m\u001b[0m\u001b[0m\n",
      "\u001b[1;32m~\\anaconda3\\envs\\cmpinf2100\\lib\\site-packages\\joblib\\parallel.py\u001b[0m in \u001b[0;36mdispatch_one_batch\u001b[1;34m(self, iterator)\u001b[0m\n\u001b[0;32m    857\u001b[0m                 \u001b[1;32mreturn\u001b[0m \u001b[1;32mFalse\u001b[0m\u001b[1;33m\u001b[0m\u001b[1;33m\u001b[0m\u001b[0m\n\u001b[0;32m    858\u001b[0m             \u001b[1;32melse\u001b[0m\u001b[1;33m:\u001b[0m\u001b[1;33m\u001b[0m\u001b[1;33m\u001b[0m\u001b[0m\n\u001b[1;32m--> 859\u001b[1;33m                 \u001b[0mself\u001b[0m\u001b[1;33m.\u001b[0m\u001b[0m_dispatch\u001b[0m\u001b[1;33m(\u001b[0m\u001b[0mtasks\u001b[0m\u001b[1;33m)\u001b[0m\u001b[1;33m\u001b[0m\u001b[1;33m\u001b[0m\u001b[0m\n\u001b[0m\u001b[0;32m    860\u001b[0m                 \u001b[1;32mreturn\u001b[0m \u001b[1;32mTrue\u001b[0m\u001b[1;33m\u001b[0m\u001b[1;33m\u001b[0m\u001b[0m\n\u001b[0;32m    861\u001b[0m \u001b[1;33m\u001b[0m\u001b[0m\n",
      "\u001b[1;32m~\\anaconda3\\envs\\cmpinf2100\\lib\\site-packages\\joblib\\parallel.py\u001b[0m in \u001b[0;36m_dispatch\u001b[1;34m(self, batch)\u001b[0m\n\u001b[0;32m    775\u001b[0m         \u001b[1;32mwith\u001b[0m \u001b[0mself\u001b[0m\u001b[1;33m.\u001b[0m\u001b[0m_lock\u001b[0m\u001b[1;33m:\u001b[0m\u001b[1;33m\u001b[0m\u001b[1;33m\u001b[0m\u001b[0m\n\u001b[0;32m    776\u001b[0m             \u001b[0mjob_idx\u001b[0m \u001b[1;33m=\u001b[0m \u001b[0mlen\u001b[0m\u001b[1;33m(\u001b[0m\u001b[0mself\u001b[0m\u001b[1;33m.\u001b[0m\u001b[0m_jobs\u001b[0m\u001b[1;33m)\u001b[0m\u001b[1;33m\u001b[0m\u001b[1;33m\u001b[0m\u001b[0m\n\u001b[1;32m--> 777\u001b[1;33m             \u001b[0mjob\u001b[0m \u001b[1;33m=\u001b[0m \u001b[0mself\u001b[0m\u001b[1;33m.\u001b[0m\u001b[0m_backend\u001b[0m\u001b[1;33m.\u001b[0m\u001b[0mapply_async\u001b[0m\u001b[1;33m(\u001b[0m\u001b[0mbatch\u001b[0m\u001b[1;33m,\u001b[0m \u001b[0mcallback\u001b[0m\u001b[1;33m=\u001b[0m\u001b[0mcb\u001b[0m\u001b[1;33m)\u001b[0m\u001b[1;33m\u001b[0m\u001b[1;33m\u001b[0m\u001b[0m\n\u001b[0m\u001b[0;32m    778\u001b[0m             \u001b[1;31m# A job can complete so quickly than its callback is\u001b[0m\u001b[1;33m\u001b[0m\u001b[1;33m\u001b[0m\u001b[1;33m\u001b[0m\u001b[0m\n\u001b[0;32m    779\u001b[0m             \u001b[1;31m# called before we get here, causing self._jobs to\u001b[0m\u001b[1;33m\u001b[0m\u001b[1;33m\u001b[0m\u001b[1;33m\u001b[0m\u001b[0m\n",
      "\u001b[1;32m~\\anaconda3\\envs\\cmpinf2100\\lib\\site-packages\\joblib\\_parallel_backends.py\u001b[0m in \u001b[0;36mapply_async\u001b[1;34m(self, func, callback)\u001b[0m\n\u001b[0;32m    206\u001b[0m     \u001b[1;32mdef\u001b[0m \u001b[0mapply_async\u001b[0m\u001b[1;33m(\u001b[0m\u001b[0mself\u001b[0m\u001b[1;33m,\u001b[0m \u001b[0mfunc\u001b[0m\u001b[1;33m,\u001b[0m \u001b[0mcallback\u001b[0m\u001b[1;33m=\u001b[0m\u001b[1;32mNone\u001b[0m\u001b[1;33m)\u001b[0m\u001b[1;33m:\u001b[0m\u001b[1;33m\u001b[0m\u001b[1;33m\u001b[0m\u001b[0m\n\u001b[0;32m    207\u001b[0m         \u001b[1;34m\"\"\"Schedule a func to be run\"\"\"\u001b[0m\u001b[1;33m\u001b[0m\u001b[1;33m\u001b[0m\u001b[0m\n\u001b[1;32m--> 208\u001b[1;33m         \u001b[0mresult\u001b[0m \u001b[1;33m=\u001b[0m \u001b[0mImmediateResult\u001b[0m\u001b[1;33m(\u001b[0m\u001b[0mfunc\u001b[0m\u001b[1;33m)\u001b[0m\u001b[1;33m\u001b[0m\u001b[1;33m\u001b[0m\u001b[0m\n\u001b[0m\u001b[0;32m    209\u001b[0m         \u001b[1;32mif\u001b[0m \u001b[0mcallback\u001b[0m\u001b[1;33m:\u001b[0m\u001b[1;33m\u001b[0m\u001b[1;33m\u001b[0m\u001b[0m\n\u001b[0;32m    210\u001b[0m             \u001b[0mcallback\u001b[0m\u001b[1;33m(\u001b[0m\u001b[0mresult\u001b[0m\u001b[1;33m)\u001b[0m\u001b[1;33m\u001b[0m\u001b[1;33m\u001b[0m\u001b[0m\n",
      "\u001b[1;32m~\\anaconda3\\envs\\cmpinf2100\\lib\\site-packages\\joblib\\_parallel_backends.py\u001b[0m in \u001b[0;36m__init__\u001b[1;34m(self, batch)\u001b[0m\n\u001b[0;32m    570\u001b[0m         \u001b[1;31m# Don't delay the application, to avoid keeping the input\u001b[0m\u001b[1;33m\u001b[0m\u001b[1;33m\u001b[0m\u001b[1;33m\u001b[0m\u001b[0m\n\u001b[0;32m    571\u001b[0m         \u001b[1;31m# arguments in memory\u001b[0m\u001b[1;33m\u001b[0m\u001b[1;33m\u001b[0m\u001b[1;33m\u001b[0m\u001b[0m\n\u001b[1;32m--> 572\u001b[1;33m         \u001b[0mself\u001b[0m\u001b[1;33m.\u001b[0m\u001b[0mresults\u001b[0m \u001b[1;33m=\u001b[0m \u001b[0mbatch\u001b[0m\u001b[1;33m(\u001b[0m\u001b[1;33m)\u001b[0m\u001b[1;33m\u001b[0m\u001b[1;33m\u001b[0m\u001b[0m\n\u001b[0m\u001b[0;32m    573\u001b[0m \u001b[1;33m\u001b[0m\u001b[0m\n\u001b[0;32m    574\u001b[0m     \u001b[1;32mdef\u001b[0m \u001b[0mget\u001b[0m\u001b[1;33m(\u001b[0m\u001b[0mself\u001b[0m\u001b[1;33m)\u001b[0m\u001b[1;33m:\u001b[0m\u001b[1;33m\u001b[0m\u001b[1;33m\u001b[0m\u001b[0m\n",
      "\u001b[1;32m~\\anaconda3\\envs\\cmpinf2100\\lib\\site-packages\\joblib\\parallel.py\u001b[0m in \u001b[0;36m__call__\u001b[1;34m(self)\u001b[0m\n\u001b[0;32m    260\u001b[0m         \u001b[1;31m# change the default number of processes to -1\u001b[0m\u001b[1;33m\u001b[0m\u001b[1;33m\u001b[0m\u001b[1;33m\u001b[0m\u001b[0m\n\u001b[0;32m    261\u001b[0m         \u001b[1;32mwith\u001b[0m \u001b[0mparallel_backend\u001b[0m\u001b[1;33m(\u001b[0m\u001b[0mself\u001b[0m\u001b[1;33m.\u001b[0m\u001b[0m_backend\u001b[0m\u001b[1;33m,\u001b[0m \u001b[0mn_jobs\u001b[0m\u001b[1;33m=\u001b[0m\u001b[0mself\u001b[0m\u001b[1;33m.\u001b[0m\u001b[0m_n_jobs\u001b[0m\u001b[1;33m)\u001b[0m\u001b[1;33m:\u001b[0m\u001b[1;33m\u001b[0m\u001b[1;33m\u001b[0m\u001b[0m\n\u001b[1;32m--> 262\u001b[1;33m             return [func(*args, **kwargs)\n\u001b[0m\u001b[0;32m    263\u001b[0m                     for func, args, kwargs in self.items]\n\u001b[0;32m    264\u001b[0m \u001b[1;33m\u001b[0m\u001b[0m\n",
      "\u001b[1;32m~\\anaconda3\\envs\\cmpinf2100\\lib\\site-packages\\joblib\\parallel.py\u001b[0m in \u001b[0;36m<listcomp>\u001b[1;34m(.0)\u001b[0m\n\u001b[0;32m    260\u001b[0m         \u001b[1;31m# change the default number of processes to -1\u001b[0m\u001b[1;33m\u001b[0m\u001b[1;33m\u001b[0m\u001b[1;33m\u001b[0m\u001b[0m\n\u001b[0;32m    261\u001b[0m         \u001b[1;32mwith\u001b[0m \u001b[0mparallel_backend\u001b[0m\u001b[1;33m(\u001b[0m\u001b[0mself\u001b[0m\u001b[1;33m.\u001b[0m\u001b[0m_backend\u001b[0m\u001b[1;33m,\u001b[0m \u001b[0mn_jobs\u001b[0m\u001b[1;33m=\u001b[0m\u001b[0mself\u001b[0m\u001b[1;33m.\u001b[0m\u001b[0m_n_jobs\u001b[0m\u001b[1;33m)\u001b[0m\u001b[1;33m:\u001b[0m\u001b[1;33m\u001b[0m\u001b[1;33m\u001b[0m\u001b[0m\n\u001b[1;32m--> 262\u001b[1;33m             return [func(*args, **kwargs)\n\u001b[0m\u001b[0;32m    263\u001b[0m                     for func, args, kwargs in self.items]\n\u001b[0;32m    264\u001b[0m \u001b[1;33m\u001b[0m\u001b[0m\n",
      "\u001b[1;32m~\\anaconda3\\envs\\cmpinf2100\\lib\\site-packages\\sklearn\\utils\\fixes.py\u001b[0m in \u001b[0;36m__call__\u001b[1;34m(self, *args, **kwargs)\u001b[0m\n\u001b[0;32m    220\u001b[0m     \u001b[1;32mdef\u001b[0m \u001b[0m__call__\u001b[0m\u001b[1;33m(\u001b[0m\u001b[0mself\u001b[0m\u001b[1;33m,\u001b[0m \u001b[1;33m*\u001b[0m\u001b[0margs\u001b[0m\u001b[1;33m,\u001b[0m \u001b[1;33m**\u001b[0m\u001b[0mkwargs\u001b[0m\u001b[1;33m)\u001b[0m\u001b[1;33m:\u001b[0m\u001b[1;33m\u001b[0m\u001b[1;33m\u001b[0m\u001b[0m\n\u001b[0;32m    221\u001b[0m         \u001b[1;32mwith\u001b[0m \u001b[0mconfig_context\u001b[0m\u001b[1;33m(\u001b[0m\u001b[1;33m**\u001b[0m\u001b[0mself\u001b[0m\u001b[1;33m.\u001b[0m\u001b[0mconfig\u001b[0m\u001b[1;33m)\u001b[0m\u001b[1;33m:\u001b[0m\u001b[1;33m\u001b[0m\u001b[1;33m\u001b[0m\u001b[0m\n\u001b[1;32m--> 222\u001b[1;33m             \u001b[1;32mreturn\u001b[0m \u001b[0mself\u001b[0m\u001b[1;33m.\u001b[0m\u001b[0mfunction\u001b[0m\u001b[1;33m(\u001b[0m\u001b[1;33m*\u001b[0m\u001b[0margs\u001b[0m\u001b[1;33m,\u001b[0m \u001b[1;33m**\u001b[0m\u001b[0mkwargs\u001b[0m\u001b[1;33m)\u001b[0m\u001b[1;33m\u001b[0m\u001b[1;33m\u001b[0m\u001b[0m\n\u001b[0m",
      "\u001b[1;32m~\\anaconda3\\envs\\cmpinf2100\\lib\\site-packages\\sklearn\\model_selection\\_validation.py\u001b[0m in \u001b[0;36m_fit_and_score\u001b[1;34m(estimator, X, y, scorer, train, test, verbose, parameters, fit_params, return_train_score, return_parameters, return_n_test_samples, return_times, return_estimator, split_progress, candidate_progress, error_score)\u001b[0m\n\u001b[0;32m    596\u001b[0m             \u001b[0mestimator\u001b[0m\u001b[1;33m.\u001b[0m\u001b[0mfit\u001b[0m\u001b[1;33m(\u001b[0m\u001b[0mX_train\u001b[0m\u001b[1;33m,\u001b[0m \u001b[1;33m**\u001b[0m\u001b[0mfit_params\u001b[0m\u001b[1;33m)\u001b[0m\u001b[1;33m\u001b[0m\u001b[1;33m\u001b[0m\u001b[0m\n\u001b[0;32m    597\u001b[0m         \u001b[1;32melse\u001b[0m\u001b[1;33m:\u001b[0m\u001b[1;33m\u001b[0m\u001b[1;33m\u001b[0m\u001b[0m\n\u001b[1;32m--> 598\u001b[1;33m             \u001b[0mestimator\u001b[0m\u001b[1;33m.\u001b[0m\u001b[0mfit\u001b[0m\u001b[1;33m(\u001b[0m\u001b[0mX_train\u001b[0m\u001b[1;33m,\u001b[0m \u001b[0my_train\u001b[0m\u001b[1;33m,\u001b[0m \u001b[1;33m**\u001b[0m\u001b[0mfit_params\u001b[0m\u001b[1;33m)\u001b[0m\u001b[1;33m\u001b[0m\u001b[1;33m\u001b[0m\u001b[0m\n\u001b[0m\u001b[0;32m    599\u001b[0m \u001b[1;33m\u001b[0m\u001b[0m\n\u001b[0;32m    600\u001b[0m     \u001b[1;32mexcept\u001b[0m \u001b[0mException\u001b[0m \u001b[1;32mas\u001b[0m \u001b[0me\u001b[0m\u001b[1;33m:\u001b[0m\u001b[1;33m\u001b[0m\u001b[1;33m\u001b[0m\u001b[0m\n",
      "\u001b[1;32m~\\anaconda3\\envs\\cmpinf2100\\lib\\site-packages\\sklearn\\pipeline.py\u001b[0m in \u001b[0;36mfit\u001b[1;34m(self, X, y, **fit_params)\u001b[0m\n\u001b[0;32m    344\u001b[0m             \u001b[1;32mif\u001b[0m \u001b[0mself\u001b[0m\u001b[1;33m.\u001b[0m\u001b[0m_final_estimator\u001b[0m \u001b[1;33m!=\u001b[0m \u001b[1;34m'passthrough'\u001b[0m\u001b[1;33m:\u001b[0m\u001b[1;33m\u001b[0m\u001b[1;33m\u001b[0m\u001b[0m\n\u001b[0;32m    345\u001b[0m                 \u001b[0mfit_params_last_step\u001b[0m \u001b[1;33m=\u001b[0m \u001b[0mfit_params_steps\u001b[0m\u001b[1;33m[\u001b[0m\u001b[0mself\u001b[0m\u001b[1;33m.\u001b[0m\u001b[0msteps\u001b[0m\u001b[1;33m[\u001b[0m\u001b[1;33m-\u001b[0m\u001b[1;36m1\u001b[0m\u001b[1;33m]\u001b[0m\u001b[1;33m[\u001b[0m\u001b[1;36m0\u001b[0m\u001b[1;33m]\u001b[0m\u001b[1;33m]\u001b[0m\u001b[1;33m\u001b[0m\u001b[1;33m\u001b[0m\u001b[0m\n\u001b[1;32m--> 346\u001b[1;33m                 \u001b[0mself\u001b[0m\u001b[1;33m.\u001b[0m\u001b[0m_final_estimator\u001b[0m\u001b[1;33m.\u001b[0m\u001b[0mfit\u001b[0m\u001b[1;33m(\u001b[0m\u001b[0mXt\u001b[0m\u001b[1;33m,\u001b[0m \u001b[0my\u001b[0m\u001b[1;33m,\u001b[0m \u001b[1;33m**\u001b[0m\u001b[0mfit_params_last_step\u001b[0m\u001b[1;33m)\u001b[0m\u001b[1;33m\u001b[0m\u001b[1;33m\u001b[0m\u001b[0m\n\u001b[0m\u001b[0;32m    347\u001b[0m \u001b[1;33m\u001b[0m\u001b[0m\n\u001b[0;32m    348\u001b[0m         \u001b[1;32mreturn\u001b[0m \u001b[0mself\u001b[0m\u001b[1;33m\u001b[0m\u001b[1;33m\u001b[0m\u001b[0m\n",
      "\u001b[1;32m~\\anaconda3\\envs\\cmpinf2100\\lib\\site-packages\\sklearn\\linear_model\\_logistic.py\u001b[0m in \u001b[0;36mfit\u001b[1;34m(self, X, y, sample_weight)\u001b[0m\n\u001b[0;32m   1404\u001b[0m         \u001b[1;32melse\u001b[0m\u001b[1;33m:\u001b[0m\u001b[1;33m\u001b[0m\u001b[1;33m\u001b[0m\u001b[0m\n\u001b[0;32m   1405\u001b[0m             \u001b[0mprefer\u001b[0m \u001b[1;33m=\u001b[0m \u001b[1;34m'processes'\u001b[0m\u001b[1;33m\u001b[0m\u001b[1;33m\u001b[0m\u001b[0m\n\u001b[1;32m-> 1406\u001b[1;33m         fold_coefs_ = Parallel(n_jobs=self.n_jobs, verbose=self.verbose,\n\u001b[0m\u001b[0;32m   1407\u001b[0m                                \u001b[1;33m**\u001b[0m\u001b[0m_joblib_parallel_args\u001b[0m\u001b[1;33m(\u001b[0m\u001b[0mprefer\u001b[0m\u001b[1;33m=\u001b[0m\u001b[0mprefer\u001b[0m\u001b[1;33m)\u001b[0m\u001b[1;33m)\u001b[0m\u001b[1;33m(\u001b[0m\u001b[1;33m\u001b[0m\u001b[1;33m\u001b[0m\u001b[0m\n\u001b[0;32m   1408\u001b[0m             path_func(X, y, pos_class=class_, Cs=[C_],\n",
      "\u001b[1;32m~\\anaconda3\\envs\\cmpinf2100\\lib\\site-packages\\joblib\\parallel.py\u001b[0m in \u001b[0;36m__call__\u001b[1;34m(self, iterable)\u001b[0m\n\u001b[0;32m   1039\u001b[0m             \u001b[1;31m# remaining jobs.\u001b[0m\u001b[1;33m\u001b[0m\u001b[1;33m\u001b[0m\u001b[1;33m\u001b[0m\u001b[0m\n\u001b[0;32m   1040\u001b[0m             \u001b[0mself\u001b[0m\u001b[1;33m.\u001b[0m\u001b[0m_iterating\u001b[0m \u001b[1;33m=\u001b[0m \u001b[1;32mFalse\u001b[0m\u001b[1;33m\u001b[0m\u001b[1;33m\u001b[0m\u001b[0m\n\u001b[1;32m-> 1041\u001b[1;33m             \u001b[1;32mif\u001b[0m \u001b[0mself\u001b[0m\u001b[1;33m.\u001b[0m\u001b[0mdispatch_one_batch\u001b[0m\u001b[1;33m(\u001b[0m\u001b[0miterator\u001b[0m\u001b[1;33m)\u001b[0m\u001b[1;33m:\u001b[0m\u001b[1;33m\u001b[0m\u001b[1;33m\u001b[0m\u001b[0m\n\u001b[0m\u001b[0;32m   1042\u001b[0m                 \u001b[0mself\u001b[0m\u001b[1;33m.\u001b[0m\u001b[0m_iterating\u001b[0m \u001b[1;33m=\u001b[0m \u001b[0mself\u001b[0m\u001b[1;33m.\u001b[0m\u001b[0m_original_iterator\u001b[0m \u001b[1;32mis\u001b[0m \u001b[1;32mnot\u001b[0m \u001b[1;32mNone\u001b[0m\u001b[1;33m\u001b[0m\u001b[1;33m\u001b[0m\u001b[0m\n\u001b[0;32m   1043\u001b[0m \u001b[1;33m\u001b[0m\u001b[0m\n",
      "\u001b[1;32m~\\anaconda3\\envs\\cmpinf2100\\lib\\site-packages\\joblib\\parallel.py\u001b[0m in \u001b[0;36mdispatch_one_batch\u001b[1;34m(self, iterator)\u001b[0m\n\u001b[0;32m    857\u001b[0m                 \u001b[1;32mreturn\u001b[0m \u001b[1;32mFalse\u001b[0m\u001b[1;33m\u001b[0m\u001b[1;33m\u001b[0m\u001b[0m\n\u001b[0;32m    858\u001b[0m             \u001b[1;32melse\u001b[0m\u001b[1;33m:\u001b[0m\u001b[1;33m\u001b[0m\u001b[1;33m\u001b[0m\u001b[0m\n\u001b[1;32m--> 859\u001b[1;33m                 \u001b[0mself\u001b[0m\u001b[1;33m.\u001b[0m\u001b[0m_dispatch\u001b[0m\u001b[1;33m(\u001b[0m\u001b[0mtasks\u001b[0m\u001b[1;33m)\u001b[0m\u001b[1;33m\u001b[0m\u001b[1;33m\u001b[0m\u001b[0m\n\u001b[0m\u001b[0;32m    860\u001b[0m                 \u001b[1;32mreturn\u001b[0m \u001b[1;32mTrue\u001b[0m\u001b[1;33m\u001b[0m\u001b[1;33m\u001b[0m\u001b[0m\n\u001b[0;32m    861\u001b[0m \u001b[1;33m\u001b[0m\u001b[0m\n",
      "\u001b[1;32m~\\anaconda3\\envs\\cmpinf2100\\lib\\site-packages\\joblib\\parallel.py\u001b[0m in \u001b[0;36m_dispatch\u001b[1;34m(self, batch)\u001b[0m\n\u001b[0;32m    775\u001b[0m         \u001b[1;32mwith\u001b[0m \u001b[0mself\u001b[0m\u001b[1;33m.\u001b[0m\u001b[0m_lock\u001b[0m\u001b[1;33m:\u001b[0m\u001b[1;33m\u001b[0m\u001b[1;33m\u001b[0m\u001b[0m\n\u001b[0;32m    776\u001b[0m             \u001b[0mjob_idx\u001b[0m \u001b[1;33m=\u001b[0m \u001b[0mlen\u001b[0m\u001b[1;33m(\u001b[0m\u001b[0mself\u001b[0m\u001b[1;33m.\u001b[0m\u001b[0m_jobs\u001b[0m\u001b[1;33m)\u001b[0m\u001b[1;33m\u001b[0m\u001b[1;33m\u001b[0m\u001b[0m\n\u001b[1;32m--> 777\u001b[1;33m             \u001b[0mjob\u001b[0m \u001b[1;33m=\u001b[0m \u001b[0mself\u001b[0m\u001b[1;33m.\u001b[0m\u001b[0m_backend\u001b[0m\u001b[1;33m.\u001b[0m\u001b[0mapply_async\u001b[0m\u001b[1;33m(\u001b[0m\u001b[0mbatch\u001b[0m\u001b[1;33m,\u001b[0m \u001b[0mcallback\u001b[0m\u001b[1;33m=\u001b[0m\u001b[0mcb\u001b[0m\u001b[1;33m)\u001b[0m\u001b[1;33m\u001b[0m\u001b[1;33m\u001b[0m\u001b[0m\n\u001b[0m\u001b[0;32m    778\u001b[0m             \u001b[1;31m# A job can complete so quickly than its callback is\u001b[0m\u001b[1;33m\u001b[0m\u001b[1;33m\u001b[0m\u001b[1;33m\u001b[0m\u001b[0m\n\u001b[0;32m    779\u001b[0m             \u001b[1;31m# called before we get here, causing self._jobs to\u001b[0m\u001b[1;33m\u001b[0m\u001b[1;33m\u001b[0m\u001b[1;33m\u001b[0m\u001b[0m\n",
      "\u001b[1;32m~\\anaconda3\\envs\\cmpinf2100\\lib\\site-packages\\joblib\\_parallel_backends.py\u001b[0m in \u001b[0;36mapply_async\u001b[1;34m(self, func, callback)\u001b[0m\n\u001b[0;32m    206\u001b[0m     \u001b[1;32mdef\u001b[0m \u001b[0mapply_async\u001b[0m\u001b[1;33m(\u001b[0m\u001b[0mself\u001b[0m\u001b[1;33m,\u001b[0m \u001b[0mfunc\u001b[0m\u001b[1;33m,\u001b[0m \u001b[0mcallback\u001b[0m\u001b[1;33m=\u001b[0m\u001b[1;32mNone\u001b[0m\u001b[1;33m)\u001b[0m\u001b[1;33m:\u001b[0m\u001b[1;33m\u001b[0m\u001b[1;33m\u001b[0m\u001b[0m\n\u001b[0;32m    207\u001b[0m         \u001b[1;34m\"\"\"Schedule a func to be run\"\"\"\u001b[0m\u001b[1;33m\u001b[0m\u001b[1;33m\u001b[0m\u001b[0m\n\u001b[1;32m--> 208\u001b[1;33m         \u001b[0mresult\u001b[0m \u001b[1;33m=\u001b[0m \u001b[0mImmediateResult\u001b[0m\u001b[1;33m(\u001b[0m\u001b[0mfunc\u001b[0m\u001b[1;33m)\u001b[0m\u001b[1;33m\u001b[0m\u001b[1;33m\u001b[0m\u001b[0m\n\u001b[0m\u001b[0;32m    209\u001b[0m         \u001b[1;32mif\u001b[0m \u001b[0mcallback\u001b[0m\u001b[1;33m:\u001b[0m\u001b[1;33m\u001b[0m\u001b[1;33m\u001b[0m\u001b[0m\n\u001b[0;32m    210\u001b[0m             \u001b[0mcallback\u001b[0m\u001b[1;33m(\u001b[0m\u001b[0mresult\u001b[0m\u001b[1;33m)\u001b[0m\u001b[1;33m\u001b[0m\u001b[1;33m\u001b[0m\u001b[0m\n",
      "\u001b[1;32m~\\anaconda3\\envs\\cmpinf2100\\lib\\site-packages\\joblib\\_parallel_backends.py\u001b[0m in \u001b[0;36m__init__\u001b[1;34m(self, batch)\u001b[0m\n\u001b[0;32m    570\u001b[0m         \u001b[1;31m# Don't delay the application, to avoid keeping the input\u001b[0m\u001b[1;33m\u001b[0m\u001b[1;33m\u001b[0m\u001b[1;33m\u001b[0m\u001b[0m\n\u001b[0;32m    571\u001b[0m         \u001b[1;31m# arguments in memory\u001b[0m\u001b[1;33m\u001b[0m\u001b[1;33m\u001b[0m\u001b[1;33m\u001b[0m\u001b[0m\n\u001b[1;32m--> 572\u001b[1;33m         \u001b[0mself\u001b[0m\u001b[1;33m.\u001b[0m\u001b[0mresults\u001b[0m \u001b[1;33m=\u001b[0m \u001b[0mbatch\u001b[0m\u001b[1;33m(\u001b[0m\u001b[1;33m)\u001b[0m\u001b[1;33m\u001b[0m\u001b[1;33m\u001b[0m\u001b[0m\n\u001b[0m\u001b[0;32m    573\u001b[0m \u001b[1;33m\u001b[0m\u001b[0m\n\u001b[0;32m    574\u001b[0m     \u001b[1;32mdef\u001b[0m \u001b[0mget\u001b[0m\u001b[1;33m(\u001b[0m\u001b[0mself\u001b[0m\u001b[1;33m)\u001b[0m\u001b[1;33m:\u001b[0m\u001b[1;33m\u001b[0m\u001b[1;33m\u001b[0m\u001b[0m\n",
      "\u001b[1;32m~\\anaconda3\\envs\\cmpinf2100\\lib\\site-packages\\joblib\\parallel.py\u001b[0m in \u001b[0;36m__call__\u001b[1;34m(self)\u001b[0m\n\u001b[0;32m    260\u001b[0m         \u001b[1;31m# change the default number of processes to -1\u001b[0m\u001b[1;33m\u001b[0m\u001b[1;33m\u001b[0m\u001b[1;33m\u001b[0m\u001b[0m\n\u001b[0;32m    261\u001b[0m         \u001b[1;32mwith\u001b[0m \u001b[0mparallel_backend\u001b[0m\u001b[1;33m(\u001b[0m\u001b[0mself\u001b[0m\u001b[1;33m.\u001b[0m\u001b[0m_backend\u001b[0m\u001b[1;33m,\u001b[0m \u001b[0mn_jobs\u001b[0m\u001b[1;33m=\u001b[0m\u001b[0mself\u001b[0m\u001b[1;33m.\u001b[0m\u001b[0m_n_jobs\u001b[0m\u001b[1;33m)\u001b[0m\u001b[1;33m:\u001b[0m\u001b[1;33m\u001b[0m\u001b[1;33m\u001b[0m\u001b[0m\n\u001b[1;32m--> 262\u001b[1;33m             return [func(*args, **kwargs)\n\u001b[0m\u001b[0;32m    263\u001b[0m                     for func, args, kwargs in self.items]\n\u001b[0;32m    264\u001b[0m \u001b[1;33m\u001b[0m\u001b[0m\n",
      "\u001b[1;32m~\\anaconda3\\envs\\cmpinf2100\\lib\\site-packages\\joblib\\parallel.py\u001b[0m in \u001b[0;36m<listcomp>\u001b[1;34m(.0)\u001b[0m\n\u001b[0;32m    260\u001b[0m         \u001b[1;31m# change the default number of processes to -1\u001b[0m\u001b[1;33m\u001b[0m\u001b[1;33m\u001b[0m\u001b[1;33m\u001b[0m\u001b[0m\n\u001b[0;32m    261\u001b[0m         \u001b[1;32mwith\u001b[0m \u001b[0mparallel_backend\u001b[0m\u001b[1;33m(\u001b[0m\u001b[0mself\u001b[0m\u001b[1;33m.\u001b[0m\u001b[0m_backend\u001b[0m\u001b[1;33m,\u001b[0m \u001b[0mn_jobs\u001b[0m\u001b[1;33m=\u001b[0m\u001b[0mself\u001b[0m\u001b[1;33m.\u001b[0m\u001b[0m_n_jobs\u001b[0m\u001b[1;33m)\u001b[0m\u001b[1;33m:\u001b[0m\u001b[1;33m\u001b[0m\u001b[1;33m\u001b[0m\u001b[0m\n\u001b[1;32m--> 262\u001b[1;33m             return [func(*args, **kwargs)\n\u001b[0m\u001b[0;32m    263\u001b[0m                     for func, args, kwargs in self.items]\n\u001b[0;32m    264\u001b[0m \u001b[1;33m\u001b[0m\u001b[0m\n",
      "\u001b[1;32m~\\anaconda3\\envs\\cmpinf2100\\lib\\site-packages\\sklearn\\utils\\fixes.py\u001b[0m in \u001b[0;36m__call__\u001b[1;34m(self, *args, **kwargs)\u001b[0m\n\u001b[0;32m    220\u001b[0m     \u001b[1;32mdef\u001b[0m \u001b[0m__call__\u001b[0m\u001b[1;33m(\u001b[0m\u001b[0mself\u001b[0m\u001b[1;33m,\u001b[0m \u001b[1;33m*\u001b[0m\u001b[0margs\u001b[0m\u001b[1;33m,\u001b[0m \u001b[1;33m**\u001b[0m\u001b[0mkwargs\u001b[0m\u001b[1;33m)\u001b[0m\u001b[1;33m:\u001b[0m\u001b[1;33m\u001b[0m\u001b[1;33m\u001b[0m\u001b[0m\n\u001b[0;32m    221\u001b[0m         \u001b[1;32mwith\u001b[0m \u001b[0mconfig_context\u001b[0m\u001b[1;33m(\u001b[0m\u001b[1;33m**\u001b[0m\u001b[0mself\u001b[0m\u001b[1;33m.\u001b[0m\u001b[0mconfig\u001b[0m\u001b[1;33m)\u001b[0m\u001b[1;33m:\u001b[0m\u001b[1;33m\u001b[0m\u001b[1;33m\u001b[0m\u001b[0m\n\u001b[1;32m--> 222\u001b[1;33m             \u001b[1;32mreturn\u001b[0m \u001b[0mself\u001b[0m\u001b[1;33m.\u001b[0m\u001b[0mfunction\u001b[0m\u001b[1;33m(\u001b[0m\u001b[1;33m*\u001b[0m\u001b[0margs\u001b[0m\u001b[1;33m,\u001b[0m \u001b[1;33m**\u001b[0m\u001b[0mkwargs\u001b[0m\u001b[1;33m)\u001b[0m\u001b[1;33m\u001b[0m\u001b[1;33m\u001b[0m\u001b[0m\n\u001b[0m",
      "\u001b[1;32m~\\anaconda3\\envs\\cmpinf2100\\lib\\site-packages\\sklearn\\linear_model\\_logistic.py\u001b[0m in \u001b[0;36m_logistic_regression_path\u001b[1;34m(X, y, pos_class, Cs, fit_intercept, max_iter, tol, verbose, solver, coef, class_weight, dual, penalty, intercept_scaling, multi_class, random_state, check_input, max_squared_sum, sample_weight, l1_ratio)\u001b[0m\n\u001b[0;32m    796\u001b[0m                 \u001b[0mbeta\u001b[0m \u001b[1;33m=\u001b[0m \u001b[1;33m(\u001b[0m\u001b[1;36m1.\u001b[0m \u001b[1;33m/\u001b[0m \u001b[0mC\u001b[0m\u001b[1;33m)\u001b[0m \u001b[1;33m*\u001b[0m \u001b[0ml1_ratio\u001b[0m\u001b[1;33m\u001b[0m\u001b[1;33m\u001b[0m\u001b[0m\n\u001b[0;32m    797\u001b[0m \u001b[1;33m\u001b[0m\u001b[0m\n\u001b[1;32m--> 798\u001b[1;33m             w0, n_iter_i, warm_start_sag = sag_solver(\n\u001b[0m\u001b[0;32m    799\u001b[0m                 \u001b[0mX\u001b[0m\u001b[1;33m,\u001b[0m \u001b[0mtarget\u001b[0m\u001b[1;33m,\u001b[0m \u001b[0msample_weight\u001b[0m\u001b[1;33m,\u001b[0m \u001b[0mloss\u001b[0m\u001b[1;33m,\u001b[0m \u001b[0malpha\u001b[0m\u001b[1;33m,\u001b[0m\u001b[1;33m\u001b[0m\u001b[1;33m\u001b[0m\u001b[0m\n\u001b[0;32m    800\u001b[0m                 \u001b[0mbeta\u001b[0m\u001b[1;33m,\u001b[0m \u001b[0mmax_iter\u001b[0m\u001b[1;33m,\u001b[0m \u001b[0mtol\u001b[0m\u001b[1;33m,\u001b[0m\u001b[1;33m\u001b[0m\u001b[1;33m\u001b[0m\u001b[0m\n",
      "\u001b[1;32m~\\anaconda3\\envs\\cmpinf2100\\lib\\site-packages\\sklearn\\utils\\validation.py\u001b[0m in \u001b[0;36minner_f\u001b[1;34m(*args, **kwargs)\u001b[0m\n\u001b[0;32m     61\u001b[0m             \u001b[0mextra_args\u001b[0m \u001b[1;33m=\u001b[0m \u001b[0mlen\u001b[0m\u001b[1;33m(\u001b[0m\u001b[0margs\u001b[0m\u001b[1;33m)\u001b[0m \u001b[1;33m-\u001b[0m \u001b[0mlen\u001b[0m\u001b[1;33m(\u001b[0m\u001b[0mall_args\u001b[0m\u001b[1;33m)\u001b[0m\u001b[1;33m\u001b[0m\u001b[1;33m\u001b[0m\u001b[0m\n\u001b[0;32m     62\u001b[0m             \u001b[1;32mif\u001b[0m \u001b[0mextra_args\u001b[0m \u001b[1;33m<=\u001b[0m \u001b[1;36m0\u001b[0m\u001b[1;33m:\u001b[0m\u001b[1;33m\u001b[0m\u001b[1;33m\u001b[0m\u001b[0m\n\u001b[1;32m---> 63\u001b[1;33m                 \u001b[1;32mreturn\u001b[0m \u001b[0mf\u001b[0m\u001b[1;33m(\u001b[0m\u001b[1;33m*\u001b[0m\u001b[0margs\u001b[0m\u001b[1;33m,\u001b[0m \u001b[1;33m**\u001b[0m\u001b[0mkwargs\u001b[0m\u001b[1;33m)\u001b[0m\u001b[1;33m\u001b[0m\u001b[1;33m\u001b[0m\u001b[0m\n\u001b[0m\u001b[0;32m     64\u001b[0m \u001b[1;33m\u001b[0m\u001b[0m\n\u001b[0;32m     65\u001b[0m             \u001b[1;31m# extra_args > 0\u001b[0m\u001b[1;33m\u001b[0m\u001b[1;33m\u001b[0m\u001b[1;33m\u001b[0m\u001b[0m\n",
      "\u001b[1;32m~\\anaconda3\\envs\\cmpinf2100\\lib\\site-packages\\sklearn\\linear_model\\_sag.py\u001b[0m in \u001b[0;36msag_solver\u001b[1;34m(X, y, sample_weight, loss, alpha, beta, max_iter, tol, verbose, random_state, check_input, max_squared_sum, warm_start_mem, is_saga)\u001b[0m\n\u001b[0;32m    308\u001b[0m \u001b[1;33m\u001b[0m\u001b[0m\n\u001b[0;32m    309\u001b[0m     \u001b[0msag\u001b[0m \u001b[1;33m=\u001b[0m \u001b[0msag64\u001b[0m \u001b[1;32mif\u001b[0m \u001b[0mX\u001b[0m\u001b[1;33m.\u001b[0m\u001b[0mdtype\u001b[0m \u001b[1;33m==\u001b[0m \u001b[0mnp\u001b[0m\u001b[1;33m.\u001b[0m\u001b[0mfloat64\u001b[0m \u001b[1;32melse\u001b[0m \u001b[0msag32\u001b[0m\u001b[1;33m\u001b[0m\u001b[1;33m\u001b[0m\u001b[0m\n\u001b[1;32m--> 310\u001b[1;33m     num_seen, n_iter_ = sag(dataset, coef_init,\n\u001b[0m\u001b[0;32m    311\u001b[0m                             \u001b[0mintercept_init\u001b[0m\u001b[1;33m,\u001b[0m \u001b[0mn_samples\u001b[0m\u001b[1;33m,\u001b[0m\u001b[1;33m\u001b[0m\u001b[1;33m\u001b[0m\u001b[0m\n\u001b[0;32m    312\u001b[0m                             \u001b[0mn_features\u001b[0m\u001b[1;33m,\u001b[0m \u001b[0mn_classes\u001b[0m\u001b[1;33m,\u001b[0m \u001b[0mtol\u001b[0m\u001b[1;33m,\u001b[0m\u001b[1;33m\u001b[0m\u001b[1;33m\u001b[0m\u001b[0m\n",
      "\u001b[1;31mKeyboardInterrupt\u001b[0m: "
     ]
    }
   ],
   "source": [
    "enet_to_fit_7 = LogisticRegression(penalty='elasticnet', solver='saga', random_state=101, max_iter=10001)\n",
    "\n",
    "enet_cv_wflow_7 = Pipeline( steps = [('std_inputs', StandardScaler()), \n",
    "                                   ('enet', enet_to_fit_7)] )\n",
    "\n",
    "enet_search_7 = GridSearchCV(enet_cv_wflow_7, param_grid=enet_grid, cv=my_cv)\n",
    "\n",
    "enet_search_results_7 = enet_search_7.fit(X_train_7, y_train_7)\n",
    "\n",
    "enet_search_results_7.best_params_\n",
    "\n",
    "enet_search_results_7.best_score_"
   ]
  },
  {
   "cell_type": "code",
   "execution_count": null,
   "id": "907903dc",
   "metadata": {},
   "outputs": [],
   "source": []
  },
  {
   "cell_type": "markdown",
   "id": "3fbd3f7a",
   "metadata": {},
   "source": [
    "## Case - 8 Treating `X17`, `X19` and  `X06` as continuous"
   ]
  },
  {
   "cell_type": "code",
   "execution_count": 90,
   "id": "1165d4ec",
   "metadata": {},
   "outputs": [],
   "source": [
    "df_8 = pd.read_csv('ppg_churn.csv')"
   ]
  },
  {
   "cell_type": "code",
   "execution_count": 91,
   "id": "6da9a3f9",
   "metadata": {},
   "outputs": [],
   "source": [
    "df_8['X06_trans'] = np.log(df_8.X06 + 0.001)"
   ]
  },
  {
   "cell_type": "code",
   "execution_count": 92,
   "id": "ec6a79f9",
   "metadata": {},
   "outputs": [],
   "source": [
    "df_8 = df_8.drop(columns=['X06'])"
   ]
  },
  {
   "cell_type": "code",
   "execution_count": 93,
   "id": "11ca50e3",
   "metadata": {},
   "outputs": [],
   "source": [
    "xinputs_8 = df_8.select_dtypes('number').copy()\n",
    "youtput_8 = df_8.loc[:, ['churn']].copy()\n",
    "\n",
    "X_train_8 = xinputs_8.to_numpy()\n",
    "y_train_8 = youtput_8.churn.to_numpy().ravel()"
   ]
  },
  {
   "cell_type": "code",
   "execution_count": 94,
   "id": "2bc07455",
   "metadata": {},
   "outputs": [
    {
     "data": {
      "text/plain": [
       "(5000, 15)"
      ]
     },
     "execution_count": 94,
     "metadata": {},
     "output_type": "execute_result"
    }
   ],
   "source": [
    "X_train_8.shape"
   ]
  },
  {
   "cell_type": "code",
   "execution_count": null,
   "id": "45d74216",
   "metadata": {},
   "outputs": [],
   "source": [
    "enet_default_8 = LogisticRegression(penalty='elasticnet', solver='saga', random_state=101, max_iter=10001,\n",
    "                                  C=1.0, l1_ratio=0.5)\n",
    "\n",
    "default_enet_wflow_8 = Pipeline( steps=[('std_inputs', StandardScaler()), \n",
    "                                      ('enet', enet_default_8)] )\n",
    "\n",
    "enet_default_cv_8 = cross_val_score(default_enet_wflow_8, X_train_8, y_train_8, cv=my_cv)\n",
    "\n",
    "enet_default_cv_8\n",
    "\n",
    "enet_default_cv_8.mean()"
   ]
  },
  {
   "cell_type": "code",
   "execution_count": null,
   "id": "b461a5e4",
   "metadata": {},
   "outputs": [],
   "source": [
    "enet_to_fit_8 = LogisticRegression(penalty='elasticnet', solver='saga', random_state=101, max_iter=10001)\n",
    "\n",
    "enet_cv_wflow_8 = Pipeline( steps = [('std_inputs', StandardScaler()), \n",
    "                                   ('enet', enet_to_fit_8)] )\n",
    "\n",
    "enet_search_8 = GridSearchCV(enet_cv_wflow_8, param_grid=enet_grid, cv=my_cv)\n",
    "\n",
    "enet_search_results_8 = enet_search_8.fit(X_train_8, y_train_8)\n",
    "\n",
    "enet_search_results_8.best_params_\n",
    "\n",
    "enet_search_results_8.best_score_"
   ]
  },
  {
   "cell_type": "code",
   "execution_count": null,
   "id": "912f204f",
   "metadata": {},
   "outputs": [],
   "source": []
  },
  {
   "cell_type": "code",
   "execution_count": null,
   "id": "fc638260",
   "metadata": {},
   "outputs": [],
   "source": []
  },
  {
   "cell_type": "code",
   "execution_count": null,
   "id": "69ed3e31",
   "metadata": {},
   "outputs": [],
   "source": []
  },
  {
   "cell_type": "code",
   "execution_count": null,
   "id": "4aa45b74",
   "metadata": {},
   "outputs": [],
   "source": []
  },
  {
   "cell_type": "code",
   "execution_count": null,
   "id": "ffcb653e",
   "metadata": {},
   "outputs": [],
   "source": []
  },
  {
   "cell_type": "code",
   "execution_count": null,
   "id": "ff09c05c",
   "metadata": {},
   "outputs": [],
   "source": []
  },
  {
   "cell_type": "code",
   "execution_count": null,
   "id": "4a6eb07d",
   "metadata": {},
   "outputs": [],
   "source": []
  }
 ],
 "metadata": {
  "kernelspec": {
   "display_name": "Python 3 (ipykernel)",
   "language": "python",
   "name": "python3"
  },
  "language_info": {
   "codemirror_mode": {
    "name": "ipython",
    "version": 3
   },
   "file_extension": ".py",
   "mimetype": "text/x-python",
   "name": "python",
   "nbconvert_exporter": "python",
   "pygments_lexer": "ipython3",
   "version": "3.8.11"
  }
 },
 "nbformat": 4,
 "nbformat_minor": 5
}
